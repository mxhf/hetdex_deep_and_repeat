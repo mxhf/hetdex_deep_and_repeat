{
 "cells": [
  {
   "cell_type": "code",
   "execution_count": 10,
   "metadata": {
    "collapsed": true
   },
   "outputs": [],
   "source": [
    "from astropy.io import ascii\n",
    "import glob\n",
    "import os\n",
    "import numpy as np"
   ]
  },
  {
   "cell_type": "code",
   "execution_count": 3,
   "metadata": {},
   "outputs": [],
   "source": [
    "co = ascii.read(\"center_coor.txt\")"
   ]
  },
  {
   "cell_type": "code",
   "execution_count": 9,
   "metadata": {},
   "outputs": [
    {
     "data": {
      "text/plain": [
       "['ifuslot', 'ra', 'dec']"
      ]
     },
     "execution_count": 9,
     "metadata": {},
     "output_type": "execute_result"
    }
   ],
   "source": [
    "co.colnames"
   ]
  },
  {
   "cell_type": "code",
   "execution_count": 6,
   "metadata": {},
   "outputs": [],
   "source": [
    "ff = glob.glob(\"aux/bulk/subaru_mosaics/0*.fits\")"
   ]
  },
  {
   "cell_type": "code",
   "execution_count": 31,
   "metadata": {},
   "outputs": [
    {
     "name": "stdout",
     "output_type": "stream",
     "text": [
      "ln -s 0008_150.14157290042309_2.11708196532774_COSMOS.gp.original_psf.v2.fits ifu042_COSMOS.gp.original_psf.v2.fits\n",
      "ln -s 0018_150.0032326689921_2.1302566498765265_COSMOS.zp.original_psf.v2.fits ifu085_COSMOS.zp.original_psf.v2.fits\n",
      "ln -s 0014_150.04140333486345_2.120968351509073_COSMOS.zp.original_psf.v2.fits ifu074_COSMOS.zp.original_psf.v2.fits\n",
      "ln -s 0026_149.94128054894134_2.1249048199104608_COSMOS.gp.original_psf.v2.fits ifu106_COSMOS.gp.original_psf.v2.fits\n",
      "ln -s 0006_150.10733703807102_2.226444620243494_COSMOS.ip.original_psf.v2.fits ifu036_COSMOS.ip.original_psf.v2.fits\n",
      "ln -s 0012_150.0835913666198_2.2119039006893817_COSMOS.rp.original_psf.v2.fits ifu046_COSMOS.rp.original_psf.v2.fits\n",
      "ln -s 0017_150.0177334156698_2.1065604569458216_COSMOS.rp.original_psf.v2.fits ifu084_COSMOS.rp.original_psf.v2.fits\n",
      "ln -s 0022_149.96499614978228_2.1394007396338743_COSMOS.ip.original_psf.v2.fits ifu096_COSMOS.ip.original_psf.v2.fits\n",
      "ln -s 0009_150.12707088198303_2.1407806737185577_COSMOS.ip.original_psf.v2.fits ifu043_COSMOS.ip.original_psf.v2.fits\n",
      "ln -s 0015_150.01203649976887_2.1696062771354017_COSMOS.zp.original_psf.v2.fits ifu076_COSMOS.zp.original_psf.v2.fits\n",
      "ln -s 0018_150.0032326689921_2.1302566498765265_COSMOS.V.original_psf.v2.fits ifu085_COSMOS.V.original_psf.v2.fits\n",
      "ln -s 0010_150.11261933015518_2.16443387631955_COSMOS.B.original_psf.v2.fits ifu044_COSMOS.B.original_psf.v2.fits\n",
      "ln -s 0014_150.04140333486345_2.120968351509073_COSMOS.rp.original_psf.v2.fits ifu074_COSMOS.rp.original_psf.v2.fits\n",
      "ln -s 0018_150.0032326689921_2.1302566498765265_COSMOS.rp.original_psf.v2.fits ifu085_COSMOS.rp.original_psf.v2.fits\n",
      "ln -s 0015_150.01203649976887_2.1696062771354017_COSMOS.rp.original_psf.v2.fits ifu076_COSMOS.rp.original_psf.v2.fits\n",
      "ln -s 0004_150.13635090479272_2.179004910943292_COSMOS.B.original_psf.v2.fits ifu034_COSMOS.B.original_psf.v2.fits\n",
      "ln -s 0017_150.0177334156698_2.1065604569458216_COSMOS.zp.original_psf.v2.fits ifu084_COSMOS.zp.original_psf.v2.fits\n",
      "ln -s 0012_150.0835913666198_2.2119039006893817_COSMOS.zp.original_psf.v2.fits ifu046_COSMOS.zp.original_psf.v2.fits\n",
      "ln -s 0019_149.9886826029077_2.1539101153674087_COSMOS.ip.original_psf.v2.fits ifu086_COSMOS.ip.original_psf.v2.fits\n",
      "ln -s 0014_150.04140333486345_2.120968351509073_COSMOS.ip.original_psf.v2.fits ifu074_COSMOS.ip.original_psf.v2.fits\n",
      "ln -s 0018_150.0032326689921_2.1302566498765265_COSMOS.ip.original_psf.v2.fits ifu085_COSMOS.ip.original_psf.v2.fits\n",
      "ln -s 0006_150.10733703807102_2.226444620243494_COSMOS.zp.original_psf.v2.fits ifu036_COSMOS.zp.original_psf.v2.fits\n",
      "ln -s 0022_149.96499614978228_2.1394007396338743_COSMOS.zp.original_psf.v2.fits ifu096_COSMOS.zp.original_psf.v2.fits\n",
      "ln -s 0019_149.9886826029077_2.1539101153674087_COSMOS.rp.original_psf.v2.fits ifu086_COSMOS.rp.original_psf.v2.fits\n",
      "ln -s 0015_150.01203649976887_2.1696062771354017_COSMOS.ip.original_psf.v2.fits ifu076_COSMOS.ip.original_psf.v2.fits\n",
      "ln -s 0009_150.12707088198303_2.1407806737185577_COSMOS.zp.original_psf.v2.fits ifu043_COSMOS.zp.original_psf.v2.fits\n",
      "ln -s 0004_150.13635090479272_2.179004910943292_COSMOS.V.original_psf.v2.fits ifu034_COSMOS.V.original_psf.v2.fits\n",
      "ln -s 0006_150.10733703807102_2.226444620243494_COSMOS.rp.original_psf.v2.fits ifu036_COSMOS.rp.original_psf.v2.fits\n",
      "ln -s 0001_150.18906321395653_2.146033517930213_COSMOS.gp.original_psf.v2.fits ifu022_COSMOS.gp.original_psf.v2.fits\n",
      "ln -s 0016_150.03223579102564_2.0828064639353254_COSMOS.gp.original_psf.v2.fits ifu083_COSMOS.gp.original_psf.v2.fits\n",
      "ln -s 0009_150.12707088198303_2.1407806737185577_COSMOS.rp.original_psf.v2.fits ifu043_COSMOS.rp.original_psf.v2.fits\n",
      "ln -s 0012_150.0835913666198_2.2119039006893817_COSMOS.ip.original_psf.v2.fits ifu046_COSMOS.ip.original_psf.v2.fits\n",
      "ln -s 0010_150.11261933015518_2.16443387631955_COSMOS.V.original_psf.v2.fits ifu044_COSMOS.V.original_psf.v2.fits\n",
      "ln -s 0019_149.9886826029077_2.1539101153674087_COSMOS.zp.original_psf.v2.fits ifu086_COSMOS.zp.original_psf.v2.fits\n",
      "ln -s 0018_150.0032326689921_2.1302566498765265_COSMOS.B.original_psf.v2.fits ifu085_COSMOS.B.original_psf.v2.fits\n",
      "ln -s 0007_150.0928795376046_2.2502018082156123_COSMOS.gp.original_psf.v2.fits ifu037_COSMOS.gp.original_psf.v2.fits\n",
      "ln -s 0022_149.96499614978228_2.1394007396338743_COSMOS.rp.original_psf.v2.fits ifu096_COSMOS.rp.original_psf.v2.fits\n",
      "ln -s 0017_150.0177334156698_2.1065604569458216_COSMOS.ip.original_psf.v2.fits ifu084_COSMOS.ip.original_psf.v2.fits\n",
      "ln -s 0015_150.01203649976887_2.1696062771354017_COSMOS.gp.original_psf.v2.fits ifu076_COSMOS.gp.original_psf.v2.fits\n",
      "ln -s 0001_150.18906321395653_2.146033517930213_COSMOS.B.original_psf.v2.fits ifu022_COSMOS.B.original_psf.v2.fits\n",
      "ln -s 0002_150.1652989926658_2.1315680990411026_COSMOS.B.original_psf.v2.fits ifu032_COSMOS.B.original_psf.v2.fits\n",
      "ln -s 0024_149.97032311792822_2.0774948742041146_COSMOS.V.original_psf.v2.fits ifu104_COSMOS.V.original_psf.v2.fits\n",
      "ln -s 0014_150.04140333486345_2.120968351509073_COSMOS.gp.original_psf.v2.fits ifu074_COSMOS.gp.original_psf.v2.fits\n",
      "ln -s 0026_149.94128054894134_2.1249048199104608_COSMOS.zp.original_psf.v2.fits ifu106_COSMOS.zp.original_psf.v2.fits\n",
      "ln -s 0022_149.96499614978228_2.1394007396338743_COSMOS.B.original_psf.v2.fits ifu096_COSMOS.B.original_psf.v2.fits\n",
      "ln -s 0018_150.0032326689921_2.1302566498765265_COSMOS.gp.original_psf.v2.fits ifu085_COSMOS.gp.original_psf.v2.fits\n",
      "ln -s 0008_150.14157290042309_2.11708196532774_COSMOS.zp.original_psf.v2.fits ifu042_COSMOS.zp.original_psf.v2.fits\n",
      "ln -s 0012_150.0835913666198_2.2119039006893817_COSMOS.gp.original_psf.v2.fits ifu046_COSMOS.gp.original_psf.v2.fits\n",
      "ln -s 0017_150.0177334156698_2.1065604569458216_COSMOS.gp.original_psf.v2.fits ifu084_COSMOS.gp.original_psf.v2.fits\n",
      "ln -s 0007_150.0928795376046_2.2502018082156123_COSMOS.ip.original_psf.v2.fits ifu037_COSMOS.ip.original_psf.v2.fits\n",
      "ln -s 0016_150.03223579102564_2.0828064639353254_COSMOS.ip.original_psf.v2.fits ifu083_COSMOS.ip.original_psf.v2.fits\n",
      "ln -s 0026_149.94128054894134_2.1249048199104608_COSMOS.V.original_psf.v2.fits ifu106_COSMOS.V.original_psf.v2.fits\n",
      "ln -s 0008_150.14157290042309_2.11708196532774_COSMOS.rp.original_psf.v2.fits ifu042_COSMOS.rp.original_psf.v2.fits\n",
      "ln -s 0012_150.0835913666198_2.2119039006893817_COSMOS.V.original_psf.v2.fits ifu046_COSMOS.V.original_psf.v2.fits\n",
      "ln -s 0025_149.9557597031626_2.101220911119825_COSMOS.B.original_psf.v2.fits ifu105_COSMOS.B.original_psf.v2.fits\n",
      "ln -s 0026_149.94128054894134_2.1249048199104608_COSMOS.rp.original_psf.v2.fits ifu106_COSMOS.rp.original_psf.v2.fits\n",
      "ln -s 0013_150.05596816996993_2.097252780719348_COSMOS.B.original_psf.v2.fits ifu073_COSMOS.B.original_psf.v2.fits\n",
      "ln -s 0001_150.18906321395653_2.146033517930213_COSMOS.ip.original_psf.v2.fits ifu022_COSMOS.ip.original_psf.v2.fits\n",
      "ln -s 0009_150.12707088198303_2.1407806737185577_COSMOS.gp.original_psf.v2.fits ifu043_COSMOS.gp.original_psf.v2.fits\n",
      "ln -s 0016_150.03223579102564_2.0828064639353254_COSMOS.rp.original_psf.v2.fits ifu083_COSMOS.rp.original_psf.v2.fits\n",
      "ln -s 0022_149.96499614978228_2.1394007396338743_COSMOS.V.original_psf.v2.fits ifu096_COSMOS.V.original_psf.v2.fits\n",
      "ln -s 0007_150.0928795376046_2.2502018082156123_COSMOS.rp.original_psf.v2.fits ifu037_COSMOS.rp.original_psf.v2.fits\n",
      "ln -s 0024_149.97032311792822_2.0774948742041146_COSMOS.B.original_psf.v2.fits ifu104_COSMOS.B.original_psf.v2.fits\n",
      "ln -s 0022_149.96499614978228_2.1394007396338743_COSMOS.gp.original_psf.v2.fits ifu096_COSMOS.gp.original_psf.v2.fits\n",
      "ln -s 0002_150.1652989926658_2.1315680990411026_COSMOS.V.original_psf.v2.fits ifu032_COSMOS.V.original_psf.v2.fits\n",
      "ln -s 0001_150.18906321395653_2.146033517930213_COSMOS.V.original_psf.v2.fits ifu022_COSMOS.V.original_psf.v2.fits\n",
      "ln -s 0006_150.10733703807102_2.226444620243494_COSMOS.gp.original_psf.v2.fits ifu036_COSMOS.gp.original_psf.v2.fits\n",
      "ln -s 0001_150.18906321395653_2.146033517930213_COSMOS.rp.original_psf.v2.fits ifu022_COSMOS.rp.original_psf.v2.fits\n",
      "ln -s 0008_150.14157290042309_2.11708196532774_COSMOS.ip.original_psf.v2.fits ifu042_COSMOS.ip.original_psf.v2.fits\n",
      "ln -s 0026_149.94128054894134_2.1249048199104608_COSMOS.ip.original_psf.v2.fits ifu106_COSMOS.ip.original_psf.v2.fits\n",
      "ln -s 0007_150.0928795376046_2.2502018082156123_COSMOS.zp.original_psf.v2.fits ifu037_COSMOS.zp.original_psf.v2.fits\n",
      "ln -s 0013_150.05596816996993_2.097252780719348_COSMOS.V.original_psf.v2.fits ifu073_COSMOS.V.original_psf.v2.fits\n",
      "ln -s 0019_149.9886826029077_2.1539101153674087_COSMOS.gp.original_psf.v2.fits ifu086_COSMOS.gp.original_psf.v2.fits\n",
      "ln -s 0025_149.9557597031626_2.101220911119825_COSMOS.V.original_psf.v2.fits ifu105_COSMOS.V.original_psf.v2.fits\n",
      "ln -s 0012_150.0835913666198_2.2119039006893817_COSMOS.B.original_psf.v2.fits ifu046_COSMOS.B.original_psf.v2.fits\n",
      "ln -s 0026_149.94128054894134_2.1249048199104608_COSMOS.B.original_psf.v2.fits ifu106_COSMOS.B.original_psf.v2.fits\n",
      "ln -s 0016_150.03223579102564_2.0828064639353254_COSMOS.zp.original_psf.v2.fits ifu083_COSMOS.zp.original_psf.v2.fits\n",
      "ln -s 0001_150.18906321395653_2.146033517930213_COSMOS.zp.original_psf.v2.fits ifu022_COSMOS.zp.original_psf.v2.fits\n",
      "ln -s 0024_149.97032311792822_2.0774948742041146_COSMOS.gp.original_psf.v2.fits ifu104_COSMOS.gp.original_psf.v2.fits\n",
      "ln -s 0008_150.14157290042309_2.11708196532774_COSMOS.V.original_psf.v2.fits ifu042_COSMOS.V.original_psf.v2.fits\n",
      "ln -s 0003_150.15141338195872_2.1551484369219773_COSMOS.B.original_psf.v2.fits ifu033_COSMOS.B.original_psf.v2.fits\n",
      "ln -s 0020_150.00849908028448_2.068700777027556_COSMOS.rp.original_psf.v2.fits ifu093_COSMOS.rp.original_psf.v2.fits\n",
      "ln -s 0004_150.13635090479272_2.179004910943292_COSMOS.gp.original_psf.v2.fits ifu034_COSMOS.gp.original_psf.v2.fits\n",
      "ln -s 0017_150.0177334156698_2.1065604569458216_COSMOS.B.original_psf.v2.fits ifu084_COSMOS.B.original_psf.v2.fits\n",
      "ln -s 0002_150.1652989926658_2.1315680990411026_COSMOS.rp.original_psf.v2.fits ifu032_COSMOS.rp.original_psf.v2.fits\n",
      "ln -s 0023_149.98481955182038_2.0538055278447427_COSMOS.ip.original_psf.v2.fits ifu103_COSMOS.ip.original_psf.v2.fits\n",
      "ln -s 0021_149.99400230934322_2.0919080529566605_COSMOS.zp.original_psf.v2.fits ifu094_COSMOS.zp.original_psf.v2.fits\n",
      "ln -s 0016_150.03223579102564_2.0828064639353254_COSMOS.V.original_psf.v2.fits ifu083_COSMOS.V.original_psf.v2.fits\n",
      "ln -s 0023_149.98481955182038_2.0538055278447427_COSMOS.B.original_psf.v2.fits ifu103_COSMOS.B.original_psf.v2.fits\n",
      "ln -s 0020_150.00849908028448_2.068700777027556_COSMOS.zp.original_psf.v2.fits ifu093_COSMOS.zp.original_psf.v2.fits\n",
      "ln -s 0014_150.04140333486345_2.120968351509073_COSMOS.B.original_psf.v2.fits ifu074_COSMOS.B.original_psf.v2.fits\n",
      "ln -s 0010_150.11261933015518_2.16443387631955_COSMOS.gp.original_psf.v2.fits ifu044_COSMOS.gp.original_psf.v2.fits\n",
      "ln -s 0020_150.00849908028448_2.068700777027556_COSMOS.V.original_psf.v2.fits ifu093_COSMOS.V.original_psf.v2.fits\n",
      "ln -s 0021_149.99400230934322_2.0919080529566605_COSMOS.rp.original_psf.v2.fits ifu094_COSMOS.rp.original_psf.v2.fits\n",
      "ln -s 0007_150.0928795376046_2.2502018082156123_COSMOS.V.original_psf.v2.fits ifu037_COSMOS.V.original_psf.v2.fits\n",
      "ln -s 0002_150.1652989926658_2.1315680990411026_COSMOS.zp.original_psf.v2.fits ifu032_COSMOS.zp.original_psf.v2.fits\n",
      "ln -s 0023_149.98481955182038_2.0538055278447427_COSMOS.V.original_psf.v2.fits ifu103_COSMOS.V.original_psf.v2.fits\n",
      "ln -s 0016_150.03223579102564_2.0828064639353254_COSMOS.B.original_psf.v2.fits ifu083_COSMOS.B.original_psf.v2.fits\n",
      "ln -s 0017_150.0177334156698_2.1065604569458216_COSMOS.V.original_psf.v2.fits ifu084_COSMOS.V.original_psf.v2.fits\n",
      "ln -s 0003_150.15141338195872_2.1551484369219773_COSMOS.gp.original_psf.v2.fits ifu033_COSMOS.gp.original_psf.v2.fits\n",
      "ln -s 0011_150.09814426934483_2.188287458860937_COSMOS.gp.original_psf.v2.fits ifu045_COSMOS.gp.original_psf.v2.fits\n",
      "ln -s 0003_150.15141338195872_2.1551484369219773_COSMOS.V.original_psf.v2.fits ifu033_COSMOS.V.original_psf.v2.fits\n",
      "ln -s 0021_149.99400230934322_2.0919080529566605_COSMOS.ip.original_psf.v2.fits ifu094_COSMOS.ip.original_psf.v2.fits\n",
      "ln -s 0008_150.14157290042309_2.11708196532774_COSMOS.B.original_psf.v2.fits ifu042_COSMOS.B.original_psf.v2.fits\n",
      "ln -s 0023_149.98481955182038_2.0538055278447427_COSMOS.zp.original_psf.v2.fits ifu103_COSMOS.zp.original_psf.v2.fits\n",
      "ln -s 0020_150.00849908028448_2.068700777027556_COSMOS.ip.original_psf.v2.fits ifu093_COSMOS.ip.original_psf.v2.fits\n",
      "ln -s 0005_150.12187256704885_2.2026580859927956_COSMOS.gp.original_psf.v2.fits ifu035_COSMOS.gp.original_psf.v2.fits\n",
      "ln -s 0007_150.0928795376046_2.2502018082156123_COSMOS.B.original_psf.v2.fits ifu037_COSMOS.B.original_psf.v2.fits\n",
      "ln -s 0023_149.98481955182038_2.0538055278447427_COSMOS.rp.original_psf.v2.fits ifu103_COSMOS.rp.original_psf.v2.fits\n",
      "ln -s 0020_150.00849908028448_2.068700777027556_COSMOS.B.original_psf.v2.fits ifu093_COSMOS.B.original_psf.v2.fits\n",
      "ln -s 0025_149.9557597031626_2.101220911119825_COSMOS.gp.original_psf.v2.fits ifu105_COSMOS.gp.original_psf.v2.fits\n",
      "ln -s 0002_150.1652989926658_2.1315680990411026_COSMOS.ip.original_psf.v2.fits ifu032_COSMOS.ip.original_psf.v2.fits\n",
      "ln -s 0014_150.04140333486345_2.120968351509073_COSMOS.V.original_psf.v2.fits ifu074_COSMOS.V.original_psf.v2.fits\n",
      "ln -s 0013_150.05596816996993_2.097252780719348_COSMOS.gp.original_psf.v2.fits ifu073_COSMOS.gp.original_psf.v2.fits\n",
      "ln -s 0019_149.9886826029077_2.1539101153674087_COSMOS.B.original_psf.v2.fits ifu086_COSMOS.B.original_psf.v2.fits\n",
      "ln -s 0021_149.99400230934322_2.0919080529566605_COSMOS.gp.original_psf.v2.fits ifu094_COSMOS.gp.original_psf.v2.fits\n",
      "ln -s 0015_150.01203649976887_2.1696062771354017_COSMOS.B.original_psf.v2.fits ifu076_COSMOS.B.original_psf.v2.fits\n",
      "ln -s 0011_150.09814426934483_2.188287458860937_COSMOS.ip.original_psf.v2.fits ifu045_COSMOS.ip.original_psf.v2.fits\n",
      "ln -s 0004_150.13635090479272_2.179004910943292_COSMOS.zp.original_psf.v2.fits ifu034_COSMOS.zp.original_psf.v2.fits\n",
      "ln -s 0005_150.12187256704885_2.2026580859927956_COSMOS.B.original_psf.v2.fits ifu035_COSMOS.B.original_psf.v2.fits\n",
      "ln -s 0003_150.15141338195872_2.1551484369219773_COSMOS.ip.original_psf.v2.fits ifu033_COSMOS.ip.original_psf.v2.fits\n",
      "ln -s 0010_150.11261933015518_2.16443387631955_COSMOS.rp.original_psf.v2.fits ifu044_COSMOS.rp.original_psf.v2.fits\n",
      "ln -s 0024_149.97032311792822_2.0774948742041146_COSMOS.zp.original_psf.v2.fits ifu104_COSMOS.zp.original_psf.v2.fits\n",
      "ln -s 0004_150.13635090479272_2.179004910943292_COSMOS.rp.original_psf.v2.fits ifu034_COSMOS.rp.original_psf.v2.fits\n",
      "ln -s 0013_150.05596816996993_2.097252780719348_COSMOS.ip.original_psf.v2.fits ifu073_COSMOS.ip.original_psf.v2.fits\n",
      "ln -s 0002_150.1652989926658_2.1315680990411026_COSMOS.gp.original_psf.v2.fits ifu032_COSMOS.gp.original_psf.v2.fits\n",
      "ln -s 0025_149.9557597031626_2.101220911119825_COSMOS.ip.original_psf.v2.fits ifu105_COSMOS.ip.original_psf.v2.fits\n",
      "ln -s 0009_150.12707088198303_2.1407806737185577_COSMOS.B.original_psf.v2.fits ifu043_COSMOS.B.original_psf.v2.fits\n",
      "ln -s 0024_149.97032311792822_2.0774948742041146_COSMOS.rp.original_psf.v2.fits ifu104_COSMOS.rp.original_psf.v2.fits\n",
      "ln -s 0011_150.09814426934483_2.188287458860937_COSMOS.B.original_psf.v2.fits ifu045_COSMOS.B.original_psf.v2.fits\n",
      "ln -s 0021_149.99400230934322_2.0919080529566605_COSMOS.B.original_psf.v2.fits ifu094_COSMOS.B.original_psf.v2.fits\n",
      "ln -s 0010_150.11261933015518_2.16443387631955_COSMOS.zp.original_psf.v2.fits ifu044_COSMOS.zp.original_psf.v2.fits\n",
      "ln -s 0005_150.12187256704885_2.2026580859927956_COSMOS.ip.original_psf.v2.fits ifu035_COSMOS.ip.original_psf.v2.fits\n",
      "ln -s 0020_150.00849908028448_2.068700777027556_COSMOS.gp.original_psf.v2.fits ifu093_COSMOS.gp.original_psf.v2.fits\n",
      "ln -s 0006_150.10733703807102_2.226444620243494_COSMOS.V.original_psf.v2.fits ifu036_COSMOS.V.original_psf.v2.fits\n",
      "ln -s 0025_149.9557597031626_2.101220911119825_COSMOS.rp.original_psf.v2.fits ifu105_COSMOS.rp.original_psf.v2.fits\n",
      "ln -s 0023_149.98481955182038_2.0538055278447427_COSMOS.gp.original_psf.v2.fits ifu103_COSMOS.gp.original_psf.v2.fits\n",
      "ln -s 0011_150.09814426934483_2.188287458860937_COSMOS.zp.original_psf.v2.fits ifu045_COSMOS.zp.original_psf.v2.fits\n",
      "ln -s 0004_150.13635090479272_2.179004910943292_COSMOS.ip.original_psf.v2.fits ifu034_COSMOS.ip.original_psf.v2.fits\n",
      "ln -s 0005_150.12187256704885_2.2026580859927956_COSMOS.V.original_psf.v2.fits ifu035_COSMOS.V.original_psf.v2.fits\n",
      "ln -s 0013_150.05596816996993_2.097252780719348_COSMOS.rp.original_psf.v2.fits ifu073_COSMOS.rp.original_psf.v2.fits\n",
      "ln -s 0003_150.15141338195872_2.1551484369219773_COSMOS.zp.original_psf.v2.fits ifu033_COSMOS.zp.original_psf.v2.fits\n",
      "ln -s 0015_150.01203649976887_2.1696062771354017_COSMOS.V.original_psf.v2.fits ifu076_COSMOS.V.original_psf.v2.fits\n",
      "ln -s 0005_150.12187256704885_2.2026580859927956_COSMOS.rp.original_psf.v2.fits ifu035_COSMOS.rp.original_psf.v2.fits\n",
      "ln -s 0024_149.97032311792822_2.0774948742041146_COSMOS.ip.original_psf.v2.fits ifu104_COSMOS.ip.original_psf.v2.fits\n",
      "ln -s 0019_149.9886826029077_2.1539101153674087_COSMOS.V.original_psf.v2.fits ifu086_COSMOS.V.original_psf.v2.fits\n",
      "ln -s 0006_150.10733703807102_2.226444620243494_COSMOS.B.original_psf.v2.fits ifu036_COSMOS.B.original_psf.v2.fits\n",
      "ln -s 0013_150.05596816996993_2.097252780719348_COSMOS.zp.original_psf.v2.fits ifu073_COSMOS.zp.original_psf.v2.fits\n",
      "ln -s 0011_150.09814426934483_2.188287458860937_COSMOS.rp.original_psf.v2.fits ifu045_COSMOS.rp.original_psf.v2.fits\n",
      "ln -s 0021_149.99400230934322_2.0919080529566605_COSMOS.V.original_psf.v2.fits ifu094_COSMOS.V.original_psf.v2.fits\n",
      "ln -s 0011_150.09814426934483_2.188287458860937_COSMOS.V.original_psf.v2.fits ifu045_COSMOS.V.original_psf.v2.fits\n",
      "ln -s 0025_149.9557597031626_2.101220911119825_COSMOS.zp.original_psf.v2.fits ifu105_COSMOS.zp.original_psf.v2.fits\n",
      "ln -s 0009_150.12707088198303_2.1407806737185577_COSMOS.V.original_psf.v2.fits ifu043_COSMOS.V.original_psf.v2.fits\n",
      "ln -s 0010_150.11261933015518_2.16443387631955_COSMOS.ip.original_psf.v2.fits ifu044_COSMOS.ip.original_psf.v2.fits\n",
      "ln -s 0005_150.12187256704885_2.2026580859927956_COSMOS.zp.original_psf.v2.fits ifu035_COSMOS.zp.original_psf.v2.fits\n",
      "ln -s 0003_150.15141338195872_2.1551484369219773_COSMOS.rp.original_psf.v2.fits ifu033_COSMOS.rp.original_psf.v2.fits\n"
     ]
    }
   ],
   "source": [
    "for f in ff:\n",
    "    h, t = os.path.split(f)\n",
    "    tt = t.split(\"_\")\n",
    "    \n",
    "    ra = float(tt[1])\n",
    "    dec = float(tt[2])\n",
    "    ii = (np.abs( co['ra'] - ra) < 1e-5) * (np.abs( co['dec'] - dec) < 1e-5) \n",
    "    if np.sum(ii) != 1:\n",
    "        print(\"ERROR: could not identify IFU for {}\".format(f))\n",
    "    ifu = co[ii][0]['ifuslot']\n",
    "    #print(tt)\n",
    "    cmd = \"ln -s {} ifu{:03d}_{}_{}\".format(t,ifu,tt[3],tt[4])\n",
    "    print(cmd)"
   ]
  },
  {
   "cell_type": "code",
   "execution_count": 23,
   "metadata": {},
   "outputs": [],
   "source": []
  },
  {
   "cell_type": "code",
   "execution_count": 24,
   "metadata": {},
   "outputs": [
    {
     "data": {
      "text/plain": [
       "33"
      ]
     },
     "execution_count": 24,
     "metadata": {},
     "output_type": "execute_result"
    }
   ],
   "source": [
    "ifu"
   ]
  },
  {
   "cell_type": "code",
   "execution_count": null,
   "metadata": {
    "collapsed": true
   },
   "outputs": [],
   "source": []
  }
 ],
 "metadata": {
  "kernelspec": {
   "display_name": "Python 3",
   "language": "python",
   "name": "python3"
  },
  "language_info": {
   "codemirror_mode": {
    "name": "ipython",
    "version": 3
   },
   "file_extension": ".py",
   "mimetype": "text/x-python",
   "name": "python",
   "nbconvert_exporter": "python",
   "pygments_lexer": "ipython3",
   "version": "3.5.4"
  }
 },
 "nbformat": 4,
 "nbformat_minor": 2
}
