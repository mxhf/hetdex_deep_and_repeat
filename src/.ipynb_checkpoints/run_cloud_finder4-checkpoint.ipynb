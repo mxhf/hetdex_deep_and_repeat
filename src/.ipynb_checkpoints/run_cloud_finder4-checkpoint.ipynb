{
 "cells": [
  {
   "cell_type": "code",
   "execution_count": 15,
   "metadata": {},
   "outputs": [
    {
     "data": {
      "text/html": [
       "<style>.container { width:100% !important; }</style>"
      ],
      "text/plain": [
       "<IPython.core.display.HTML object>"
      ]
     },
     "metadata": {},
     "output_type": "display_data"
    }
   ],
   "source": [
    "# go wide screen\n",
    "from IPython.core.display import display, HTML\n",
    "display(HTML(\"<style>.container { width:100% !important; }</style>\"))"
   ]
  },
  {
   "cell_type": "code",
   "execution_count": 16,
   "metadata": {
    "collapsed": true
   },
   "outputs": [],
   "source": [
    "import os"
   ]
  },
  {
   "cell_type": "code",
   "execution_count": 17,
   "metadata": {
    "collapsed": true
   },
   "outputs": [],
   "source": [
    "ifu_list=!cat ifu_list.txt"
   ]
  },
  {
   "cell_type": "code",
   "execution_count": null,
   "metadata": {},
   "outputs": [],
   "source": [
    "for ifu in ifu_list:\n",
    "    \n",
    "    cmd=\"python noise_model2.py -i data/outcube_median_{}.fits.gz  -o data/ncoutcube_median_{}.fits.gz\".format(ifu,ifu)\n",
    "    !$cmd"
   ]
  },
  {
   "cell_type": "code",
   "execution_count": null,
   "metadata": {
    "collapsed": true
   },
   "outputs": [],
   "source": [
    "for ifu in ifu_list:\n",
    "    cmd=\"filter_cube.py --infile data/outcube_median_{}.fits.gz --outfile data/sf2outcube_median_{}.fits.gz\".format(ifu,ifu)\n",
    "    os.system(cmd)"
   ]
  },
  {
   "cell_type": "code",
   "execution_count": null,
   "metadata": {
    "collapsed": true
   },
   "outputs": [],
   "source": [
    "for ifu in ifu_list:\n",
    "    cmd = \"python cloud_finder2.py -i data/sf2outcube_median_{}.fits.gz -b data/outcube_median_{}.badregs  -o map_{}.fits.gz\".format(ifu,ifu, ifu)\n",
    "    os.system(cmd)"
   ]
  },
  {
   "cell_type": "code",
   "execution_count": null,
   "metadata": {
    "collapsed": true
   },
   "outputs": [],
   "source": [
    "for ifu in ifu_list:\n",
    "    cmd = \"python build_catalog.py -i data/sf2outcube_median_{}.fits.gz -m map_{}.fits.gz -o catalog_{}.txt\".format(ifu,ifu, ifu)\n",
    "    os.system(cmd)"
   ]
  },
  {
   "cell_type": "markdown",
   "metadata": {},
   "source": [
    "# Generate Plots"
   ]
  },
  {
   "cell_type": "code",
   "execution_count": 1,
   "metadata": {
    "collapsed": true
   },
   "outputs": [],
   "source": [
    "import matplotlib.pyplot as plt\n",
    "import numpy as np\n",
    "from mpl_toolkits.mplot3d import Axes3D\n",
    "% matplotlib inline\n",
    "\n",
    "import spectrum\n",
    "\n",
    "from astropy.io import ascii\n",
    "\n",
    "from astropy.io import fits\n",
    "\n",
    "from scipy import interpolate\n",
    "\n",
    "\n",
    "import numpy\n",
    "from matplotlib import pyplot as plot\n",
    "\n",
    "\n",
    "import skimage.morphology\n",
    "\n",
    "from scipy.optimize import least_squares\n",
    "from astropy.stats import biweight_location\n",
    "import numpy as np\n",
    "\n",
    "\n",
    "from astropy.table import Table, Column"
   ]
  },
  {
   "cell_type": "code",
   "execution_count": 2,
   "metadata": {
    "collapsed": true
   },
   "outputs": [],
   "source": [
    "def register_ds9staircase():\n",
    "    # register color map\n",
    "    from matplotlib.cm import register_cmap, cmap_d\n",
    "\n",
    "    colors = []\n",
    "    for ii in range(1,6):\n",
    "        kk = ii/5.\n",
    "        colors.append( (kk*.3,kk*.3,kk*1)  )\n",
    "\n",
    "    for ii in range(1,6):\n",
    "        kk = ii/5.\n",
    "        colors.append( (kk*.3,kk*1,kk*.3)  )\n",
    "    for ii in range(1,6):\n",
    "        kk = ii/5.\n",
    "        colors.append( (kk*1,kk*.3,kk*.3)  )\n",
    "    colors = np.array(colors)\n",
    "    xx = np.arange(len(colors), dtype=float)\n",
    "    xx = xx/xx.max()\n",
    "\n",
    "    ds9staircase = {'red': lambda v : np.interp(v, xx, colors[:,0]),\n",
    "               'green': lambda v : np.interp(v, xx, colors[:,1]),\n",
    "               'blue': lambda v : np.interp(v, xx, colors[:,2])}\n",
    "\n",
    "\n",
    "    # Register all other colormaps\n",
    "    register_cmap('ds9staircase', data=ds9staircase)\n",
    "    \n",
    "register_ds9staircase()"
   ]
  },
  {
   "cell_type": "code",
   "execution_count": 3,
   "metadata": {
    "collapsed": true
   },
   "outputs": [],
   "source": [
    "# simple continuum removal though spline interpolation\n",
    "def confitSpl(wls, s, n = 10, kappaL=2.5, kappaU=2.5, output_fit=False, smooth=0., mask=None, PLOT=False, maxiter=15):\n",
    "    if mask == None:\n",
    "        mask = wls > -1 # use all\n",
    "    l = len(wls)\n",
    "    l = np.floor(l/n)\n",
    "    dwl = (wls[-1]-wls[0])/n\n",
    "\n",
    "    niter = 0\n",
    "    nmasked = len(mask[~mask])\n",
    "    while niter < maxiter:\n",
    "        bwls = []\n",
    "        bs   = []\n",
    "\n",
    "        # put one point at the blue end, window only half the normal binsize\n",
    "        wlstart = wls[0]\n",
    "        wlstop  = wls[0] + dwl/2.\n",
    "        ii = (wls >= wlstart) * (wls <= wlstop)         \n",
    "        if type(mask) != type(None): ii *= mask\n",
    "        binned_wls = np.mean( wls[ii] )\n",
    "        bwls.append( binned_wls )\n",
    "        bs.append(    np.median(   s[ii] ) )\n",
    "        # normal points, normal binsize\n",
    "        for i in range(n-1):\n",
    "                wlstart = wls[0]  + dwl/2. + dwl * i\n",
    "                wlstop  = wls[0]  + dwl/2. + dwl * (i + 1) \n",
    "                ii = (wls >= wlstart) * (wls <= wlstop)         \n",
    "                if type(mask) != type(None): ii *= mask\n",
    "                binned_wls = np.mean( wls[ii] )\n",
    "                bwls.append( binned_wls )\n",
    "                bs.append(    np.median(   s[ii] ) )\n",
    "        # put one point at the red end, window only half the normal binsize\n",
    "        wlstart = wls[-1] - dwl/2.\n",
    "        wlstop  = wls[-1]\n",
    "        ii = (wls >= wlstart) * (wls <= wlstop)         \n",
    "        if type(mask) != type(None): ii *= mask\n",
    "        binned_wls = np.mean( wls[ii] )\n",
    "        bwls.append( binned_wls )\n",
    "        bs.append(    np.median(   s[ii] ) )\n",
    "\n",
    "        tck = interpolate.splrep(bwls,bs,s=smooth)\n",
    "        c = interpolate.splev(wls,tck,der=0)\n",
    "\n",
    "        res = s-c\n",
    "        sigma = np.std(res[mask]) \n",
    "\n",
    "        inliers  = ( res) <= kappaU*sigma\n",
    "        inliers *= (-res) <= kappaL*sigma\n",
    "\n",
    "        mask *= inliers\n",
    "        nmasked_new = len(mask[~mask])\n",
    "        if nmasked_new == nmasked:\n",
    "            break\n",
    "        nmasked = nmasked_new\n",
    "\n",
    "        niter += 1\n",
    "    if PLOT:\n",
    "        f=plt.figure()\n",
    "        plt.plot(wls,s) \n",
    "        plt.plot(wls,c)\n",
    "        plt.plot(wls[~mask],s[~mask],'r.') \n",
    "        plt.ylim([-1.,1.])\n",
    "        \n",
    "    # filter lowest and highest 3 fourier channels\n",
    "    sc = s-c\n",
    "\n",
    "    if output_fit:\n",
    "        return sc,c\n",
    "    else:\n",
    "        return sc"
   ]
  },
  {
   "cell_type": "code",
   "execution_count": 4,
   "metadata": {
    "collapsed": true
   },
   "outputs": [],
   "source": [
    "def plot_3D_array_slices(ax, array, dz=[-1,0,1], alpha=[0.1,1.,0.1], wlstart=0, wlstep=1, min_val=0.,max_val=0.6, xstart=0, xstep=0.5, ystart=0, ystep=0.5):\n",
    "    n_x, n_y, n_z = array.shape\n",
    "    colormap = plt.get_cmap('ds9staircase')\n",
    "\n",
    "    \n",
    "    islice = np.argmax(alpha)\n",
    "    for z,a in zip(dz,alpha):\n",
    "        x_cut = array[n_x//2+z,:,:]\n",
    "        Y, Z = np.mgrid[0:n_y, 0:n_z]\n",
    "        Y = Y  * ystep + ystart\n",
    "        Z = Z  * xstep + xstart\n",
    "        X = (n_x//2 * np.ones((n_y, n_z)) + z) * wlstep + wlstart\n",
    "\n",
    "        ax.plot_surface(Y, X, Z, rstride=1, cstride=1, facecolors=colormap((x_cut-min_val)/(max_val-min_val)), shade=False, alpha=a)\n",
    "    ax.set_title(\"$\\lambda$ = {:.1f} A\".format((n_x//2 + dz[islice])* wlstep + wlstart))\n",
    "\n",
    "    ax.set_ylabel(\"wavelength [A]\")\n",
    "    ax.set_xlabel(\"y [arcsec]\")\n",
    "    ax.set_zlabel(\"x [arcsec]\")\n",
    "    ax.xaxis.labelpad=15\n",
    "    ax.yaxis.labelpad=15\n",
    "    ax.zaxis.labelpad=15\n",
    "\n",
    "\n",
    "def do_slices(r, s, axx, dz = [-4,0,4]):\n",
    "    \n",
    "    dz = np.array(dz) + 0\n",
    "    if not len(dz) == len(axx):\n",
    "        print(\"Error, da and axx must be the same length.\")\n",
    "        return\n",
    "    \n",
    "    c = s.data\n",
    "    pad = 15\n",
    "\n",
    "    minx, maxx = 0,c.shape[2]\n",
    "    miny, maxy = 0,c.shape[1]\n",
    "    minz, maxz = 0,c.shape[0]\n",
    "\n",
    "      \n",
    "    z1,z2 = max(r[\"zmin\"]-pad,minz),min(r[\"zmax\"]+pad,maxz)\n",
    "    y1,y2 = max(r[\"ymin\"]-pad,miny),min(r[\"ymax\"]+pad,maxy)\n",
    "    x1,x2 = max(r[\"xmin\"]-pad,minx),min(r[\"xmax\"]+pad,maxx)\n",
    "\n",
    "    subcube = c[ z1:z2 , y1:y2, x1:x2 ]\n",
    "\n",
    "    wlstart, wlstep = s.grid()[z1], s.step\n",
    "\n",
    "\n",
    "    platescale = s.hdu.header['CDELT2']*3600.\n",
    "\n",
    "    ystart = (y1 - r[\"y_com\"])*platescale\n",
    "    ystep = platescale\n",
    "    xstart = (x1 - r[\"x_com\"])*platescale\n",
    "    xstep = platescale\n",
    "\n",
    "    #figs = []\n",
    "    for i,ax in enumerate(axx):\n",
    "        \n",
    "        #fig = plt.figure(figsize=[9,7])\n",
    "        #ax = fig.add_subplot(111, projection='3d')\n",
    "        alpha = [0.03] * len(dz)\n",
    "        alpha[i] = 1.\n",
    "        plot_3D_array_slices(ax, subcube, dz=dz, alpha=alpha, wlstart=wlstart, wlstep=wlstep, xstart = xstart, xstep = xstep , ystart = ystart, ystep = ystep )\n",
    "        #figs.append(fig)\n",
    "    #return figs\n",
    "\n",
    "def extract(r, s, outmap):\n",
    "    mask = np.sum( outmap == r['id'], axis=0) > 0\n",
    "\n",
    "    sout = np.zeros( s.data.shape[0]  )\n",
    "    for i in range(s.data.shape[0]):\n",
    "        sout[i] = biweight_location( s.data[i][mask] )\n",
    "\n",
    "    ww = s.grid()\n",
    "    return ww,sout, mask\n",
    "\n",
    "    #plt.imshow(mask)"
   ]
  },
  {
   "cell_type": "code",
   "execution_count": 5,
   "metadata": {
    "collapsed": true
   },
   "outputs": [],
   "source": [
    "def fit_gaussians(lineset, ww, csout, wlwin):\n",
    "    results = []\n",
    "    \n",
    "    for wlc in lineset:\n",
    "        p0 = [2000.,wlc,10.]\n",
    "        ii = (ww > wlc-wlwin/2.) * (ww < wlc+wlwin/2.)\n",
    "        fit = least_squares(resid, p0, args=(ww[ii], csout[ii]))\n",
    "        p = fit.x\n",
    "        #plt.plot(ww[ii], peval(p,ww[ii]))\n",
    "        results.append([p[0], p[1],p[2]])    \n",
    "\n",
    "    results = np.array(results)\n",
    "\n",
    "    ii = (results[:,1] > ww[0]) * (results[:,1] < ww[-1])\n",
    "    results = results[ii]\n",
    "    return results"
   ]
  },
  {
   "cell_type": "code",
   "execution_count": 6,
   "metadata": {
    "collapsed": true
   },
   "outputs": [],
   "source": [
    "def line_detect(ww, csout, threshold):\n",
    "    # line detection (everything above cetain threshold)\n",
    "    jj = csout > threshold\n",
    "\n",
    "    # labelling line detections\n",
    "    label = skimage.morphology.label(jj)\n",
    "    ll = np.unique( label )\n",
    "\n",
    "    lineset = []\n",
    "    dlineset = []\n",
    "\n",
    "    for l in ll:\n",
    "        if l == 0:\n",
    "            continue\n",
    "        ii = l == label\n",
    "        f = np.sum( csout[ii] )\n",
    "        wl_com = np.sum( ww[ii]*csout[ii] ) /np.sum(csout[ii] )\n",
    "        #print(\"{} {:.2f}A {:.2f}\".format(l, wl_com, f))\n",
    "        lineset.append(wl_com)\n",
    "        dlineset.append(2.)\n",
    "    return lineset, dlineset, jj"
   ]
  },
  {
   "cell_type": "code",
   "execution_count": 7,
   "metadata": {
    "collapsed": true
   },
   "outputs": [],
   "source": [
    "def plot_spec(ax1, ax2, ww, csout, wldetect, jj, results, r, s, bad = [[5275.,5325.]]):\n",
    "    #f = plt.figure(figsize = [15,10])\n",
    "    #ax1 = plt.axes()\n",
    "    ax1.plot(ww, csout, drawstyle='steps-mid')\n",
    "\n",
    "    ax1.set_ylim([-30,100])\n",
    "    ax1.set_xlabel(\"wl[A]\")\n",
    "    ax1.set_ylabel(\"flux [arb.]\")\n",
    "\n",
    "    ii_bad = ww < 0.\n",
    "    for b in bad:\n",
    "        ax1.axvspan(b[0], b[1], alpha=0.5, color='grey')\n",
    "        ii_bad += (ww > b[0]) * (ww < b[1])\n",
    "\n",
    "    ax1.plot(ww[~ii_bad * jj], csout[~ii_bad * jj], 'r.')\n",
    "    #plt.plot(ww[~ii_bad], csout[~ii_bad], drawstyle='steps-mid')\n",
    "\n",
    "\n",
    "    pad = 30\n",
    "    minz, maxz = 0,s.data.shape[0]\n",
    "    z1,z2 = max(r[\"zmin\"]-pad,minz),min(r[\"zmax\"]+pad,maxz)\n",
    "\n",
    "    #ax2 = plt.axes([.4,.55,.3,.3])\n",
    "    ax2.plot(ww[z1:z2], csout[z1:z2], drawstyle='steps-mid')\n",
    "    ax2.set_ylim([-.2,.7])\n",
    "    ax2.set_xlabel(\"wl[A]\")\n",
    "    ax2.set_ylabel(\"flux [arb.]\")\n",
    "    ylim = ax2.get_ylim()\n",
    "    \n",
    "    ax1.axvline(wldetect, c='r')\n",
    "    ax1.set_ylim(ylim)\n",
    "\n",
    "    if len(results) > 0:\n",
    "        ii = (results[:,1] > ww[0]) * (results[:,1] < ww[-1])\n",
    "        results = results[ii]\n",
    "        for r in results:\n",
    "            draw_line(ax1, r[1], \"{:.1f} {:.1f}\".format(r[1],r[2]))    "
   ]
  },
  {
   "cell_type": "code",
   "execution_count": 8,
   "metadata": {
    "collapsed": true
   },
   "outputs": [],
   "source": [
    "from scipy.optimize import least_squares\n",
    "\n",
    "import numpy as np\n",
    "\n",
    "#generic gaussian\n",
    "def gauss(mu, sigma, x):\n",
    "    return 1./(sigma * np.sqrt(2. * np.pi) ) * np.exp( -(x-mu)**2./(2. * sigma**2.))\n",
    "\n",
    "def peval(p,x):\n",
    "    A,mu,sigma = p\n",
    "    return A*gauss(mu, sigma, x)\n",
    "\n",
    "def resid(p, x, y):\n",
    "    model = peval(p,x)\n",
    "    return (y - model)"
   ]
  },
  {
   "cell_type": "code",
   "execution_count": 9,
   "metadata": {
    "collapsed": true
   },
   "outputs": [],
   "source": [
    "def draw_line(ax, wl, label):\n",
    "    ax.text(wl,.6,label, rotation=90., ha='center', size=10, va='top')\n",
    "    ax.plot([wl]*2,[0.,.7], c='grey', lw=1., zorder=0)"
   ]
  },
  {
   "cell_type": "code",
   "execution_count": 10,
   "metadata": {
    "collapsed": true
   },
   "outputs": [],
   "source": [
    "def object_description(r):\n",
    "    s = \"\"\n",
    "    uu = [str(r.columns[c].unit) for c in r.columns]\n",
    "    for n,u in zip(r.colnames, uu):\n",
    "        s += \"{:8s} {} [{}]\\n\".format(n, r[n], u)\n",
    "\n",
    "    return(s)\n",
    "\n",
    "#r = ascii.read(\"catalog_022.txt\", format=\"ecsv\")[0]\n",
    "#print(object_description(r))"
   ]
  },
  {
   "cell_type": "code",
   "execution_count": 11,
   "metadata": {
    "collapsed": true
   },
   "outputs": [],
   "source": [
    "\n",
    "def identify_lines(wldetect, lineset, dlineset, flinelist):\n",
    "    # detected line must be first line in list\n",
    "    idetect = np.argmin( np.abs(lineset - wldetect) )\n",
    "    _lineset = [lineset[idetect]] \n",
    "    for l in lineset:\n",
    "        if not l == _lineset[0]:\n",
    "            _lineset.append(l)\n",
    "    \n",
    "    # http://classic.sdss.org/dr6/algorithms/linestable.html\n",
    "    t = ascii.read(flinelist)\n",
    "\n",
    "    for i,(l,dl) in enumerate(zip(_lineset,dlineset)):\n",
    "        z = l/t[\"wl[A]\"]-1.\n",
    "        c = Column(z, name=\"z_{}\".format(i))\n",
    "        t.add_column(c)\n",
    "        dz = (l+dl)/t[\"wl[A]\"] - (l-dl)/t[\"wl[A]\"] \n",
    "        c = Column(dz, name=\"dz_{}\".format(i))\n",
    "        t.add_column(c)\n",
    "    s = \"\"\n",
    "    \n",
    "    \n",
    "    \n",
    "    for r in t:\n",
    "        if r[\"z_0\"] < 0.:\n",
    "            continue\n",
    "        s += \"If line {:.2f}A is [{:12s}] at rest. wl = {:.1f}A (z = {:.3f})\\n\".format(_lineset[0], r[\"species\"], r[\"wl[A]\"], r[\"z_0\"])  \n",
    "        for i in range(1, len(_lineset)):\n",
    "            if i == idetect:\n",
    "                continue\n",
    "            ii = np.abs( r[\"z_0\"] - t[\"z_{}\".format(i)] ) < (r[\"dz_0\"] + t[\"dz_{}\".format(i)])\n",
    "\n",
    "            #print(\"{} lines match \".format(sum(ii)))\n",
    "            for _r in t[ii]:\n",
    "\n",
    "                obswl = (_r[\"wl[A]\"] * (1. + r[\"z_0\"]) )\n",
    "                dA = _lineset[i] - obswl\n",
    "                dv = dA/lineset[i] * 3e5\n",
    "                #z = _r[\"wl[A]\"]\n",
    "                z = _lineset[i]/_r[\"wl[A]\"] - 1.\n",
    "                s += \" Line {:.2f} could be [{:12s}] at rest wl. {}, wl_obs(z={:.3f}) = {:.2f}A, dA = {:.2f}A, dv = {:.2f}kms, z = {:.3f}\\n\".format(_lineset[i], _r[\"species\"], _r[\"wl[A]\"],r[\"z_0\"],obswl, dA, dv, z)\n",
    "    return s\n",
    "\n",
    "#s = identify_lines(wldetect, lineset, dlineset, flinelist)\n",
    "#print(s)"
   ]
  },
  {
   "cell_type": "code",
   "execution_count": 13,
   "metadata": {
    "scrolled": false
   },
   "outputs": [
    {
     "name": "stdout",
     "output_type": "stream",
     "text": [
      "Generating plots for IFU 106 ...\n",
      "done\n"
     ]
    }
   ],
   "source": [
    "from astropy.io import ascii\n",
    "\n",
    "def mk_detection_plots(IFU):\n",
    "    global wldetect, lineset, dlineset, flinelist\n",
    "    foutmap = \"map_{}.fits.gz\".format(IFU)\n",
    "    fincube = \"data/sf2outcube_median_{}.fits.gz\".format(IFU)\n",
    "    fcatalog = \"catalog_{}.txt\".format(IFU)\n",
    "    threshold = 0.15\n",
    "    wlwin = 30.\n",
    "    flinelist = \"linelist.txt\"\n",
    "\n",
    "    outmap = fits.getdata(foutmap)\n",
    "    s = spectrum.readSpectrum(fincube)\n",
    "    t = ascii.read(fcatalog, format=\"ecsv\")\n",
    "\n",
    "    figs = []\n",
    "    for r in t:\n",
    "        # for debugging\n",
    "        #if not r['id']==3:\n",
    "        #    continue\n",
    "        # spectral extraction\n",
    "        ww,sout, mask = extract(r, s, outmap)\n",
    "        \n",
    "        wldetect = r['wl_com']\n",
    "        \n",
    "        \n",
    "        if any( np.isnan(sout) ):\n",
    "            print(\"Extraction of object {} resulted in nans in the spectrum.\".format(r['id']))\n",
    "            continue\n",
    "\n",
    "        # continuum removal\n",
    "        csout = confitSpl(ww, sout, PLOT=False)\n",
    "\n",
    "        # line detection and gaussian fitting    \n",
    "        lineset, dlineset, jj = line_detect(ww, csout, threshold)\n",
    "        slineident = \"\"\n",
    "        results = []\n",
    "        if len(lineset) != 0:\n",
    "            results =  fit_gaussians(lineset, ww, csout, wlwin = wlwin)   \n",
    "            # line identification\n",
    "            slineident = identify_lines(wldetect, lineset,dlineset, flinelist)       \n",
    "\n",
    "        # plottting\n",
    "        grid_size = (4, 4) \n",
    "        # 3D plots\n",
    "        fig = plt.figure(figsize=[18,15])\n",
    "        ax0 = plt.subplot2grid(grid_size, (0, 0), rowspan=2, colspan=1)\n",
    "        ax1 = plt.subplot2grid(grid_size, (0, 1), rowspan=1, colspan=1, projection='3d')\n",
    "        ax2 = plt.subplot2grid(grid_size, (0, 2), rowspan=1, colspan=1, projection='3d')\n",
    "        ax3 = plt.subplot2grid(grid_size, (0, 3), rowspan=1, colspan=1, projection='3d')\n",
    "        do_slices(r, s, [ax1, ax2, ax3])\n",
    "        # Automagically fits things together\n",
    "\n",
    "        sod = object_description(r)\n",
    "        ax0.text(.0, 1.,sod, ha='left', va='top', size=16)\n",
    "        ax0.axis('off')\n",
    "\n",
    "        ax6 = plt.subplot2grid(grid_size, (1, 1), rowspan=1, colspan=1)\n",
    "        ax7 = plt.subplot2grid(grid_size, (1, 2), rowspan=1, colspan=2)\n",
    "        \n",
    "        plot_spec(ax7, ax6, ww, csout, wldetect, jj, results, r, s)\n",
    "\n",
    "        ax8 = plt.subplot2grid(grid_size, (2, 0), rowspan=2, colspan=4)\n",
    "        ax8.text(.0,1.,slineident, ha='left', va='top')\n",
    "        ax8.axis('off')\n",
    "\n",
    "        plt.tight_layout()\n",
    "\n",
    "        figs.append(fig)\n",
    "\n",
    "    import matplotlib.backends.backend_pdf\n",
    "    pdf = matplotlib.backends.backend_pdf.PdfPages(\"catalog_{}.pdf\".format(IFU))\n",
    "    for fig in figs: ## will open an empty extra figure :(\n",
    "        pdf.savefig( fig)\n",
    "    pdf.close()\n",
    "    \n",
    "clist =  !ls catalog_???.txt\n",
    "ifu_list = [f[8:11] for f in clist]\n",
    "ifu_list = ['106']\n",
    "for ifu in ifu_list:\n",
    "    if int(ifu) < 46:\n",
    "        continue\n",
    "    print(\"Generating plots for IFU {} ...\".format(ifu))\n",
    "    mk_detection_plots(ifu)\n",
    "print('done')"
   ]
  },
  {
   "cell_type": "code",
   "execution_count": null,
   "metadata": {
    "collapsed": true
   },
   "outputs": [],
   "source": [
    "import matplotlib.pyplot as plt\n",
    "\n",
    "from astropy.wcs import WCS\n",
    "from astropy.io import fits\n",
    "from astropy.utils.data import get_pkg_data_filename\n",
    "\n",
    "filename = get_pkg_data_filename('aux/subaru_mosaics/0001_150.18858000_2.14721000_COSMOS.ip.original_psf.v2.fits')\n",
    "\n",
    "hdu = fits.open(filename)[0]\n",
    "wcs = WCS(hdu.header)\n",
    "\n",
    "ax = plt.subplot(projection=wcs)\n",
    "plt.imshow(hdu.data, vmin=-2.e-5, vmax=10., origin='lower')\n",
    "#ax.coords.grid(True, color='white', ls='solid')\n",
    "ax.coords[0].set_axislabel('Galactic Longitude')\n",
    "ax.coords[1].set_axislabel('Galactic Latitude')\n",
    "\n",
    "#overlay = ax.get_coords_overlay('fk5')\n",
    "#overlay.grid(color='white', ls='dotted')\n",
    "#overlay[0].set_axislabel('Right Ascension (J2000)')\n",
    "#overlay[1].set_axislabel('Declination (J2000)')\n",
    "\n",
    "ax.set_xlim(-0.5, hdu.data.shape[1] - 0.5)\n",
    "ax.set_ylim(-0.5, hdu.data.shape[0] - 0.5)"
   ]
  },
  {
   "cell_type": "code",
   "execution_count": null,
   "metadata": {
    "collapsed": true
   },
   "outputs": [],
   "source": [
    "import matplotlib.pyplot as plt\n",
    "\n",
    "from astropy.wcs import WCS\n",
    "from astropy.io import fits\n",
    "from astropy.utils.data import get_pkg_data_filename\n",
    "\n",
    "filename = get_pkg_data_filename('data/s2outcube_median_022.fits.gz')\n",
    "\n",
    "hdu = fits.open(filename)[0]\n",
    "wcs = WCS(hdu.header)\n",
    "\n",
    "ax = plt.subplot(projection=wcs)\n",
    "plt.imshow(hdu.data[731], vmin=-2.e-5, vmax=10., origin='lower')"
   ]
  },
  {
   "cell_type": "code",
   "execution_count": null,
   "metadata": {
    "collapsed": true
   },
   "outputs": [],
   "source": [
    "fits.open(\"aux/subaru_mosaics/0001_150.18858000_2.14721000_COSMOS.ip.original_psf.v2.fits\")\n",
    "\n",
    "\n",
    "ax = plt.subplot(projection=wcs)\n",
    "\n",
    "ax.imshow(hdu.data, vmin=-2.e-5, vmax=2.e-4, origin='lower')\n",
    "\n",
    "ax.coords.grid(True, color='white', ls='solid')\n",
    "ax.coords[0].set_axislabel('Galactic Longitude')\n",
    "ax.coords[1].set_axislabel('Galactic Latitude')\n",
    "\n",
    "overlay = ax.get_coords_overlay('fk5')\n",
    "overlay.grid(color='white', ls='dotted')\n",
    "overlay[0].set_axislabel('Right Ascension (J2000)')\n",
    "overlay[1].set_axislabel('Declination (J2000)')"
   ]
  },
  {
   "cell_type": "markdown",
   "metadata": {},
   "source": [
    "# Dynamical Mass estimate"
   ]
  },
  {
   "cell_type": "code",
   "execution_count": null,
   "metadata": {
    "collapsed": true
   },
   "outputs": [],
   "source": [
    "\n",
    "s_e = 19.86/3842.52 * 3e5\n",
    "\n",
    "scale = 8.441 #kpc/arcsec from ned wrights comso cal at z = 2.16\n",
    "\n",
    "R_e = np.sqrt( 5.**2. + 3.5*2. ) * scale\n",
    "\n",
    "G = 4.3e-9 # Mpc M_sun^-1 (km/s)^-2\n",
    "\n",
    "M = s_e**2.*(R_e/1000.)/G\n",
    "\n",
    "print(\"estimate M_dyn = {:.2e} M_sun\".format(M))"
   ]
  }
 ],
 "metadata": {
  "kernelspec": {
   "display_name": "Python 3",
   "language": "python",
   "name": "python3"
  },
  "language_info": {
   "codemirror_mode": {
    "name": "ipython",
    "version": 3
   },
   "file_extension": ".py",
   "mimetype": "text/x-python",
   "name": "python",
   "nbconvert_exporter": "python",
   "pygments_lexer": "ipython3",
   "version": "3.5.4"
  }
 },
 "nbformat": 4,
 "nbformat_minor": 2
}
