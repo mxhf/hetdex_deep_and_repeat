{
 "cells": [
  {
   "cell_type": "code",
   "execution_count": 3,
   "metadata": {},
   "outputs": [
    {
     "data": {
      "text/html": [
       "<style>.container { width:100% !important; }</style>"
      ],
      "text/plain": [
       "<IPython.core.display.HTML object>"
      ]
     },
     "metadata": {},
     "output_type": "display_data"
    }
   ],
   "source": [
    "# go wide screen\n",
    "from IPython.core.display import display, HTML\n",
    "display(HTML(\"<style>.container { width:100% !important; }</style>\"))"
   ]
  },
  {
   "cell_type": "code",
   "execution_count": 234,
   "metadata": {
    "collapsed": true
   },
   "outputs": [],
   "source": [
    "import time\n",
    "def pp(s):\n",
    "    print(s)\n",
    "    return s + \"\\n\"\n"
   ]
  },
  {
   "cell_type": "code",
   "execution_count": 4,
   "metadata": {
    "collapsed": true
   },
   "outputs": [],
   "source": [
    "import numpy as np"
   ]
  },
  {
   "cell_type": "code",
   "execution_count": 5,
   "metadata": {},
   "outputs": [],
   "source": [
    "import spectrum"
   ]
  },
  {
   "cell_type": "code",
   "execution_count": 6,
   "metadata": {
    "collapsed": true
   },
   "outputs": [],
   "source": [
    "from matplotlib import pyplot as plt\n",
    "% matplotlib inline"
   ]
  },
  {
   "cell_type": "code",
   "execution_count": 7,
   "metadata": {},
   "outputs": [],
   "source": [
    "import pyregion\n",
    "from astropy.io import fits"
   ]
  },
  {
   "cell_type": "code",
   "execution_count": 8,
   "metadata": {},
   "outputs": [],
   "source": [
    "fregion = \"LAB.reg\"\n",
    "\n",
    "with open(fregion) as fin:\n",
    "    region_string = fin.read()"
   ]
  },
  {
   "cell_type": "code",
   "execution_count": 9,
   "metadata": {},
   "outputs": [],
   "source": [
    "fcube = \"data/s2outcube_median_022.fits.gz\"\n",
    "s = spectrum.readSpectrum(fcube)\n",
    "ww = s.grid()"
   ]
  },
  {
   "cell_type": "code",
   "execution_count": null,
   "metadata": {},
   "outputs": [],
   "source": [
    "r2 = pyregion.parse(region_string).as_imagecoord(s.hdu.header)\n",
    "myfilter = r2.get_filter()\n",
    "\n",
    "mask = r2.get_mask(shape=c[0].shape)\n",
    "\n"
   ]
  },
  {
   "cell_type": "code",
   "execution_count": null,
   "metadata": {},
   "outputs": [],
   "source": [
    "\n",
    "plt.subplot(121).imshow(mask, origin=\"lower\", interpolation=\"nearest\")\n"
   ]
  },
  {
   "cell_type": "code",
   "execution_count": null,
   "metadata": {},
   "outputs": [],
   "source": [
    "sout = np.zeros( c.shape[0]  )\n",
    "for i in range(c.shape[0]):\n",
    "    sout[i] = np.sum( c[i][mask] )"
   ]
  },
  {
   "cell_type": "code",
   "execution_count": null,
   "metadata": {
    "collapsed": true
   },
   "outputs": [],
   "source": [
    "def draw_line(wl, label):\n",
    "    plt.text(wl,100.,label, rotation=90., ha='center', size=20, va='top')\n",
    "    plt.plot([wl]*2,[0.,80.], c='r', lw=1.)"
   ]
  },
  {
   "cell_type": "code",
   "execution_count": null,
   "metadata": {},
   "outputs": [],
   "source": [
    "f = plt.figure(figsize = [15,10])\n",
    "plt.plot(ww, sout, drawstyle='steps-mid')\n",
    "plt.ylim([-30,100])\n",
    "plt.xlabel(\"wl[A]\")\n",
    "plt.ylabel(\"flux [arb.]\")\n",
    "\n",
    "#If line 3844.0A is [Lyα         ] at rest. wl = 1215.2A (z = 2.163)\n",
    "# Line 4906.7 could be [C IV        ] at rest wl. 1549.48, obs. wl = 4901.25A, dA = 5.45A\n",
    "# Line 5193.4 could be [He II       ] at rest wl. 1640.4, obs. wl = 5188.85A, dA = 4.55A\n",
    "\n",
    "\n",
    "draw_line(3844.0, \"Lyα\")\n",
    "draw_line(4901.25, \"[C IV]\")\n",
    "draw_line(5188.85, \"[He II]\")\n",
    "plt.xlim([3500.,5250.])\n",
    "\n",
    "#plt.xlim([-30,100])"
   ]
  },
  {
   "cell_type": "code",
   "execution_count": null,
   "metadata": {
    "collapsed": true
   },
   "outputs": [],
   "source": [
    "f = plt.figure(figsize = [15,10])\n",
    "plt.plot(ww, sout, drawstyle='steps-mid')\n",
    "plt.ylim([-30,100])\n",
    "plt.xlabel(\"wl[A]\")\n",
    "plt.ylabel(\"flux [arb.]\")\n",
    "\n",
    "#If line 3844.0A is [Lyα         ] at rest. wl = 1215.2A (z = 2.163)\n",
    "# Line 4906.7 could be [C IV        ] at rest wl. 1549.48, obs. wl = 4901.25A, dA = 5.45A\n",
    "# Line 5193.4 could be [He II       ] at rest wl. 1640.4, obs. wl = 5188.85A, dA = 4.55A\n",
    "\n",
    "\n",
    "draw_line(3844.0, \"Lyα\")\n",
    "draw_line(4901.25, \"[C IV]\")\n",
    "draw_line(5188.85, \"[He II]\")\n",
    "plt.xlim([3500.,5250.])\n"
   ]
  },
  {
   "cell_type": "code",
   "execution_count": null,
   "metadata": {},
   "outputs": [],
   "source": [
    "from collections import OrderedDict"
   ]
  },
  {
   "cell_type": "markdown",
   "metadata": {},
   "source": [
    "# Here the actual cloudfinder happens"
   ]
  },
  {
   "cell_type": "code",
   "execution_count": null,
   "metadata": {
    "collapsed": true
   },
   "outputs": [],
   "source": [
    "# old object oriented routine, slow\n",
    "class Pixel():\n",
    "    def __init__(self, c, x, y, z):\n",
    "        self.x = x\n",
    "        self.y = y\n",
    "        self.z = z\n",
    "        self.c = c\n",
    "        self.explored = False\n",
    "        \n",
    "    def __str__( self ):\n",
    "        return \"({},{},{})\".format(self.x, self.y, self.z)\n",
    "    \n",
    "    def get_coor_tuple(self):\n",
    "        return (self.x, self.y, self.z) \n",
    "        \n",
    "    def get_children(self):\n",
    "        children = []\n",
    "        ddx = [-1,0,1]\n",
    "        ddy = [-1,0,1]\n",
    "        ddz = [-1,0,1]\n",
    "        for dx in ddx:\n",
    "            for dy in ddy:\n",
    "                for dz in ddz:\n",
    "                    if not dx == dy == dz == 0:\n",
    "                        newx, newy, newz = self.x+dx, self.y+dy, self.z+dz\n",
    "                        if newx >= 0 and newx < c.shape[2]\\\n",
    "                            and newy >= 0 and newy < c.shape[1]\\\n",
    "                            and newz >= 0 and newz < c.shape[0]:\n",
    "                               children.append( Pixel(self.c, newx, newy, newz) ) \n",
    "        return children\n",
    "    \n",
    "    def get_cube_val(self):\n",
    "        return c[self.z, self.y, self.x]\n",
    "    \n",
    "    def build_map(self, threshold, label):\n",
    "        outmap = np.zeros_like(self.c, dtype=int)\n",
    "        visited = np.array( np.zeros_like(self.c), dtype=bool)\n",
    "        pixel_list = []\n",
    "        stack = [self]\n",
    "        #visited = [self.get_coor_tuple()]\n",
    "        \n",
    "        maxiter = 1e9\n",
    "        iter = 0\n",
    "        while len(stack) > 0: \n",
    "            #print(\"{} elements on stack, visited {} pixels.\".format(len(stack), len(visited)))\n",
    "            #stack[(self.x,self.y,self.z)] = self\n",
    "            pm = stack.pop()\n",
    "            #visited.append( pm.get_coor_tuple() )\n",
    "            visited[pm.z, pm.y, pm.x] = True\n",
    "            #print(\"Pixel {}\".format(self))\n",
    "            pp = pm.get_children()\n",
    "            #print(\"{} children\".format(len(pp)))\n",
    "            #N =  sum( [p.get_cube_val() > threshold for p in pp] ) \n",
    "            #print(\"{} are larger than threshold.\".format(N))\n",
    "            for p in pp:\n",
    "                #print(p, p.get_cube_val() )\n",
    "                if p.get_cube_val() > threshold and not visited[p.z, p.y, p.x]:\n",
    "                    #print(\"  val: \", p.get_cube_val())\n",
    "                    \n",
    "                    stack.append(p)\n",
    "                    outmap[p.z, p.y, p.x] = label\n",
    "                    pixel_list.append( [p.x, p.y, p.z, p.get_cube_val()] )\n",
    "            #print(\"{} elements on stack, visited {} pixels.\".format(len(stack), len(visited)))\n",
    "            iter += 1\n",
    "            if iter > maxiter:\n",
    "                break\n",
    "            \n",
    "        return outmap, pixel_list\n",
    "            \n",
    "    def build_map(self, threshold, label):\n",
    "        outmap = np.zeros_like(self.c, dtype=int)\n",
    "        visited = np.array( np.zeros_like(self.c), dtype=bool)\n",
    "        pixel_list = []\n",
    "        stack = [self]\n",
    "        #visited = [self.get_coor_tuple()]\n",
    "        \n",
    "        maxiter = 1e9\n",
    "        iter = 0\n",
    "        while len(stack) > 0: \n",
    "            #print(\"{} elements on stack, visited {} pixels.\".format(len(stack), len(visited)))\n",
    "            #stack[(self.x,self.y,self.z)] = self\n",
    "            pm = stack.pop()\n",
    "            #visited.append( pm.get_coor_tuple() )\n",
    "            visited[pm.z, pm.y, pm.x] = True\n",
    "            #print(\"Pixel {}\".format(self))\n",
    "            pp = pm.get_children()\n",
    "            #print(\"{} children\".format(len(pp)))\n",
    "            #N =  sum( [p.get_cube_val() > threshold for p in pp] ) \n",
    "            #print(\"{} are larger than threshold.\".format(N))\n",
    "            for p in pp:\n",
    "                #print(p, p.get_cube_val() )\n",
    "                if p.get_cube_val() > threshold and not visited[p.z, p.y, p.x]:\n",
    "                    #print(\"  val: \", p.get_cube_val())\n",
    "                    \n",
    "                    stack.append(p)\n",
    "                    outmap[p.z, p.y, p.x] = label\n",
    "                    pixel_list.append( [p.x, p.y, p.z, p.get_cube_val()] )\n",
    "            #print(\"{} elements on stack, visited {} pixels.\".format(len(stack), len(visited)))\n",
    "            iter += 1\n",
    "            if iter > maxiter:\n",
    "                break\n",
    "            \n",
    "        return outmap, pixel_list            "
   ]
  },
  {
   "cell_type": "code",
   "execution_count": 220,
   "metadata": {
    "collapsed": true
   },
   "outputs": [],
   "source": [
    "def build_map2(c, outmap, x, y, z, threshold, label):\n",
    "    # Non object oriented version\n",
    "    def get_children(zyx, shape):\n",
    "        maxz, maxy, maxx = shape\n",
    "        z, y, x = zyx\n",
    "        children = []\n",
    "        ddx = [-1,0,1]\n",
    "        ddy = [-1,0,1]\n",
    "        ddz = [-1,0,1]\n",
    "        #ddz = [0]\n",
    "        for dx in ddx:\n",
    "            for dy in ddy:\n",
    "                for dz in ddz:\n",
    "                    if not dx == dy == dz == 0:\n",
    "                        newx, newy, newz = x+dx, y+dy, z+dz\n",
    "                        if newx >= 0 and newx < maxx\\\n",
    "                            and newy >= 0 and newy < maxy\\\n",
    "                            and newz >= 0 and newz < maxz:\n",
    "                               children.append( (newz, newy, newx) ) \n",
    "        return children\n",
    "\n",
    "    pixel_list = []\n",
    "    stack = [(z,y,x)]\n",
    "    outmap[(z,y,x)] = label\n",
    "\n",
    "    maxiter = 1e6\n",
    "    iter = 0\n",
    "    while len(stack) > 0: \n",
    "        pm = stack.pop()\n",
    "        pp = get_children(pm, c.shape)\n",
    "        for p in pp:\n",
    "            if c[p] >= threshold and  outmap[p] == 0: # pixel that are labeled 0 have not been visited yet\n",
    "                stack.append(p)\n",
    "                outmap[p] = label\n",
    "            elif c[p] < threshold and  outmap[p] == 0:\n",
    "                outmap[p] = -1 # label pixel with -1 if they have beed visited already\n",
    "        iter += 1\n",
    "        if iter > maxiter:\n",
    "            break\n",
    "\n",
    "    return outmap#pixel_list            "
   ]
  },
  {
   "cell_type": "code",
   "execution_count": 235,
   "metadata": {
    "scrolled": true
   },
   "outputs": [
    {
     "name": "stdout",
     "output_type": "stream",
     "text": [
      "Building map ...\n",
      "Time to build map: 2.0494e-01 s\n",
      "4170 labeled pixels on map\n",
      "21944643 untouched pixels on map\n",
      "4547 visited but unlabeled pixels on map\n"
     ]
    }
   ],
   "source": [
    "# test HD-LAB1\n",
    "z0 = 176\n",
    "x0 = 91\n",
    "y0 = 49\n",
    "  \n",
    "c = s.data\n",
    "    \n",
    "\n",
    "grow_threshold = 0.15\n",
    "\n",
    "summary = \"\"\n",
    "summary += pp(\"Building map ...\")\n",
    "start_time = time.time()\n",
    "#m,pl = p0.build_map(threshold = 0.2, label=1)\n",
    "\n",
    "outmap = np.zeros_like(c, dtype=int)\n",
    "\n",
    "m = build_map2(c, outmap, x0, y0, z0, threshold = grow_threshold, label=1)\n",
    "\n",
    "time_to_build = time.time() - start_time\n",
    "summary += pp(\"Time to build map: {:.4e} s\".format(time_to_build))\n",
    "\n",
    "print(\"{} labeled pixels on map\".format( np.nansum( (m>0).flatten())) )\n",
    "print(\"{} untouched pixels on map\".format( np.nansum( (m == 0).flatten())) )\n",
    "print(\"{} visited but unlabeled pixels on map\".format( np.nansum( (m == -1).flatten())) )"
   ]
  },
  {
   "cell_type": "code",
   "execution_count": 74,
   "metadata": {},
   "outputs": [
    {
     "name": "stdout",
     "output_type": "stream",
     "text": [
      "Building map ...\n",
      "Time to build map: 1.1640e-03 s\n",
      "4212 labeled pixels on map\n",
      "21944461 untouched pixels on map\n",
      "4687 visited but unlabeled pixels on map\n"
     ]
    }
   ],
   "source": [
    "# test\n",
    "z0 = 342\n",
    "x0 = 80\n",
    "y0 = 113\n",
    "\n",
    "c = s.data\n",
    "    \n",
    "grow_threshold = 0.5\n",
    "\n",
    "summary = \"\"\n",
    "summary += pp(\"Building map ...\")\n",
    "start_time = time.time()\n",
    "\n",
    "m = build_map2(c, outmap, x0, y0, z0, threshold = grow_threshold, label=2)\n",
    "\n",
    "time_to_build = time.time() - start_time\n",
    "summary += pp(\"Time to build map: {:.4e} s\".format(time_to_build))\n",
    "\n",
    "print(\"{} labeled pixels on map\".format( np.nansum( (m>0).flatten())) )\n",
    "print(\"{} untouched pixels on map\".format( np.nansum( (m == 0).flatten())) )\n",
    "print(\"{} visited but unlabeled pixels on map\".format( np.nansum( (m == -1).flatten())) )"
   ]
  },
  {
   "cell_type": "code",
   "execution_count": 68,
   "metadata": {},
   "outputs": [],
   "source": [
    "#test\n",
    "f = np.zeros_like(c)\n",
    "f[m > 0] = c[m > 0]\n",
    "\n",
    "# shell\n",
    "#f[m == -1] = c[m == -1]\n",
    "\n",
    "h = fits.PrimaryHDU(data=f, header=s.hdu.header)\n",
    "h.header[\"CD1_1\"] = -0.00013888888888888   \n",
    "h.header[\"CD1_2\"] = 0. \n",
    "h.header[\"CD2_2\"] = 0.000138888888888888  \n",
    "h.header[\"CD2_1\"] = 0.\n",
    "h.header[\"CD3_3\"] = 1.985839800000122  \n",
    "h.writeto(\"m.fits.gz\", overwrite=True)"
   ]
  },
  {
   "cell_type": "code",
   "execution_count": 188,
   "metadata": {
    "collapsed": true
   },
   "outputs": [],
   "source": [
    "c = s.data\n",
    "\n",
    "c[898:923] = 0. # take out bad region"
   ]
  },
  {
   "cell_type": "code",
   "execution_count": 249,
   "metadata": {},
   "outputs": [],
   "source": [
    "detect_threshold = 0.5\n",
    "#grow_threshold = 0.274\n",
    "grow_threshold = 0.3\n",
    "\n",
    "detect_threshold = 0.6\n",
    "#grow_threshold = 0.274\n",
    "grow_threshold = 0.4"
   ]
  },
  {
   "cell_type": "code",
   "execution_count": 250,
   "metadata": {
    "scrolled": true
   },
   "outputs": [
    {
     "name": "stdout",
     "output_type": "stream",
     "text": [
      "77346 pixel above detection threshold\n",
      "### 0 ###\n",
      "97 119 29 0\n",
      "Building map starting with pixel 0 out of 77346 that exceeds threshold...\n",
      "Time to build map: 3.3797e-02 s\n",
      "265 labeled pixels on map\n",
      "21952470 untouched pixels on map\n",
      "### 3 ###\n",
      "98 118 77 0\n",
      "Building map starting with pixel 3 out of 77346 that exceeds threshold...\n",
      "Time to build map: 8.2867e+00 s\n",
      "60405 labeled pixels on map\n",
      "21852944 untouched pixels on map\n",
      "### 1598 ###\n",
      "90 47 173 0\n",
      "Building map starting with pixel 1598 out of 77346 that exceeds threshold...\n",
      "Time to build map: 7.2379e-02 s\n",
      "60972 labeled pixels on map\n",
      "21851701 untouched pixels on map\n",
      "### 2475 ###\n",
      "23 62 197 0\n",
      "Building map starting with pixel 2475 out of 77346 that exceeds threshold...\n",
      "Time to build map: 6.9512e-02 s\n",
      "61485 labeled pixels on map\n",
      "21850271 untouched pixels on map\n",
      "### 3969 ###\n",
      "60 140 242 0\n",
      "Building map starting with pixel 3969 out of 77346 that exceeds threshold...\n",
      "Time to build map: 2.4098e-02 s\n",
      "61685 labeled pixels on map\n",
      "21849681 untouched pixels on map\n",
      "### 5243 ###\n",
      "59 140 271 0\n",
      "Building map starting with pixel 5243 out of 77346 that exceeds threshold...\n",
      "Time to build map: 6.0467e+00 s\n",
      "104599 labeled pixels on map\n",
      "21775520 untouched pixels on map\n",
      "### 6283 ###\n",
      "22 61 288 0\n",
      "Building map starting with pixel 6283 out of 77346 that exceeds threshold...\n",
      "Time to build map: 7.8708e-02 s\n",
      "105169 labeled pixels on map\n",
      "21774134 untouched pixels on map\n",
      "### 7255 ###\n",
      "22 64 303 0\n",
      "Building map starting with pixel 7255 out of 77346 that exceeds threshold...\n",
      "Time to build map: 9.9493e-02 s\n",
      "105805 labeled pixels on map\n",
      "21772582 untouched pixels on map\n",
      "### 8558 ###\n",
      "21 62 327 0\n",
      "Building map starting with pixel 8558 out of 77346 that exceeds threshold...\n",
      "Time to build map: 4.2808e-02 s\n",
      "106036 labeled pixels on map\n",
      "21771960 untouched pixels on map\n",
      "### 9242 ###\n",
      "79 114 340 0\n",
      "Building map starting with pixel 9242 out of 77346 that exceeds threshold...\n",
      "Time to build map: 3.3522e-02 s\n",
      "106201 labeled pixels on map\n",
      "21771425 untouched pixels on map\n",
      "### 10238 ###\n",
      "22 62 350 0\n",
      "Building map starting with pixel 10238 out of 77346 that exceeds threshold...\n",
      "Time to build map: 9.0586e-02 s\n",
      "106723 labeled pixels on map\n",
      "21769994 untouched pixels on map\n",
      "### 15994 ###\n",
      "23 62 423 0\n",
      "Building map starting with pixel 15994 out of 77346 that exceeds threshold...\n",
      "Time to build map: 3.4223e-02 s\n",
      "106934 labeled pixels on map\n",
      "21769387 untouched pixels on map\n",
      "### 17501 ###\n",
      "23 62 442 0\n",
      "Building map starting with pixel 17501 out of 77346 that exceeds threshold...\n",
      "Time to build map: 4.2134e-02 s\n",
      "107236 labeled pixels on map\n",
      "21768514 untouched pixels on map\n",
      "### 19166 ###\n",
      "23 62 460 0\n",
      "Building map starting with pixel 19166 out of 77346 that exceeds threshold...\n",
      "Time to build map: 2.4481e-01 s\n",
      "108579 labeled pixels on map\n",
      "21765607 untouched pixels on map\n",
      "### 26390 ###\n",
      "24 61 532 0\n",
      "Building map starting with pixel 26390 out of 77346 that exceeds threshold...\n",
      "Time to build map: 2.4801e-01 s\n",
      "110124 labeled pixels on map\n",
      "21761455 untouched pixels on map\n",
      "### 28635 ###\n",
      "25 76 555 0\n",
      "Building map starting with pixel 28635 out of 77346 that exceeds threshold...\n",
      "Time to build map: 3.8673e-02 s\n",
      "110359 labeled pixels on map\n",
      "21760830 untouched pixels on map\n",
      "### 34020 ###\n",
      "23 62 605 0\n",
      "Building map starting with pixel 34020 out of 77346 that exceeds threshold...\n",
      "Time to build map: 2.0315e-02 s\n",
      "110489 labeled pixels on map\n",
      "21760402 untouched pixels on map\n",
      "### 36150 ###\n",
      "21 62 623 0\n",
      "Building map starting with pixel 36150 out of 77346 that exceeds threshold...\n",
      "Time to build map: 1.3320e-01 s\n",
      "111387 labeled pixels on map\n",
      "21758357 untouched pixels on map\n",
      "### 39161 ###\n",
      "47 134 647 0\n",
      "Building map starting with pixel 39161 out of 77346 that exceeds threshold...\n",
      "Time to build map: 6.0468e-02 s\n",
      "111754 labeled pixels on map\n",
      "21757490 untouched pixels on map\n",
      "### 46816 ###\n",
      "22 61 719 0\n",
      "Building map starting with pixel 46816 out of 77346 that exceeds threshold...\n",
      "Time to build map: 1.0073e-01 s\n",
      "112322 labeled pixels on map\n",
      "21755930 untouched pixels on map\n",
      "### 47849 ###\n",
      "97 80 728 0\n",
      "Building map starting with pixel 47849 out of 77346 that exceeds threshold...\n",
      "Time to build map: 9.3420e-03 s\n",
      "112389 labeled pixels on map\n",
      "21755665 untouched pixels on map\n",
      "### 52051 ###\n",
      "22 61 767 0\n",
      "Building map starting with pixel 52051 out of 77346 that exceeds threshold...\n",
      "Time to build map: 2.1764e-01 s\n",
      "113591 labeled pixels on map\n",
      "21752792 untouched pixels on map\n",
      "### 55949 ###\n",
      "22 61 800 0\n",
      "Building map starting with pixel 55949 out of 77346 that exceeds threshold...\n",
      "Time to build map: 2.5760e-02 s\n",
      "113773 labeled pixels on map\n",
      "21752280 untouched pixels on map\n",
      "### 58193 ###\n",
      "24 63 818 0\n",
      "Building map starting with pixel 58193 out of 77346 that exceeds threshold...\n",
      "Time to build map: 2.8355e-02 s\n",
      "113948 labeled pixels on map\n",
      "21751720 untouched pixels on map\n",
      "### 59462 ###\n",
      "22 61 829 0\n",
      "Building map starting with pixel 59462 out of 77346 that exceeds threshold...\n",
      "Time to build map: 4.6883e-02 s\n",
      "114255 labeled pixels on map\n",
      "21750865 untouched pixels on map\n",
      "### 67517 ###\n",
      "97 113 923 0\n",
      "Building map starting with pixel 67517 out of 77346 that exceeds threshold...\n",
      "Time to build map: 1.0780e+00 s\n",
      "120966 labeled pixels on map\n",
      "21739721 untouched pixels on map\n",
      "### 67574 ###\n",
      "58 138 923 0\n",
      "Building map starting with pixel 67574 out of 77346 that exceeds threshold...\n",
      "Time to build map: 1.3381e+00 s\n",
      "129287 labeled pixels on map\n",
      "21726056 untouched pixels on map\n",
      "### 70789 ###\n",
      "21 61 954 0\n",
      "Building map starting with pixel 70789 out of 77346 that exceeds threshold...\n",
      "Time to build map: 6.0956e-02 s\n",
      "129649 labeled pixels on map\n",
      "21725108 untouched pixels on map\n",
      "### 73331 ###\n",
      "21 60 975 0\n",
      "Building map starting with pixel 73331 out of 77346 that exceeds threshold...\n",
      "Time to build map: 5.3969e-02 s\n",
      "129993 labeled pixels on map\n",
      "21724121 untouched pixels on map\n"
     ]
    }
   ],
   "source": [
    "# run cloud growth algorithm on all pixels above detection threshold\n",
    "# try to be intelligent, only loop over pixels that exceed detection threshold\n",
    "ii = c > detect_threshold \n",
    "N =  (np.sum(ii))\n",
    "print(\"{} pixel above detection threshold\".format(N))\n",
    "\n",
    "outmap = np.zeros_like(c, dtype=int)\n",
    "\n",
    "zz,yy,xx = [np.arange(s, dtype=int) for s in c.shape]\n",
    "\n",
    "YY,ZZ,XX = np.meshgrid(yy, zz, xx)\n",
    "\n",
    "label = 1\n",
    "for i, (x,y,z) in enumerate( zip(XX[ii], YY[ii], ZZ[ii] ) )  :  \n",
    "    if outmap[z,y,x] == 0:\n",
    "        pp(\"### {} ###\".format(i))\n",
    "        print(x,y,z, outmap[z,y,x])\n",
    "        #outmap = build_map2(c, outmap, x,y,z, threshold = grow_threshold, label=label)\n",
    "        \n",
    "        summary = \"\"\n",
    "        summary += pp(\"Building map starting with pixel {} out of {} that exceeds threshold...\".format(i,N))\n",
    "        start_time = time.time()\n",
    "        #print(\"{} labeled pixels on map\".format( np.nansum( (outmap > 0).flatten())) )\n",
    "        outmap = build_map2(c, outmap, x,y,z, threshold = grow_threshold, label=label)\n",
    "        time_to_build = time.time() - start_time\n",
    "        summary += pp(\"Time to build map: {:.4e} s\".format(time_to_build))\n",
    "\n",
    "        print(\"{} labeled pixels on map\".format( np.nansum( (outmap > 0).flatten())) )\n",
    "        print(\"{} untouched pixels on map\".format( np.nansum( (outmap == 0).flatten())) )\n",
    "\n",
    "    label += 1\n",
    "    \n",
    "    if i > 1e6:\n",
    "        break\n",
    "#print (cnt)"
   ]
  },
  {
   "cell_type": "code",
   "execution_count": 251,
   "metadata": {},
   "outputs": [
    {
     "name": "stdout",
     "output_type": "stream",
     "text": [
      "29 regions survive size cut\n"
     ]
    }
   ],
   "source": [
    "# filter regions with too small volume \n",
    "minsize = 3\n",
    "rr = np.sort( np.unique( outmap.flatten() ) )\n",
    "for r in rr:\n",
    "    if not r > 0:\n",
    "        continue\n",
    "    N = np.sum( outmap == r )\n",
    "    #print(\"{} : N = {}\".format(r, N))\n",
    "    if N < minsize:\n",
    "        outmap[outmap == r] = -1  \n",
    "rr = np.sort( np.unique( outmap.flatten() ) )\n",
    "\n",
    "# relabel\n",
    "for i,r in enumerate(rr[rr>0]):\n",
    "    outmap[outmap == r] = i + 1\n",
    "    \n",
    "rr = np.sort( np.unique( outmap.flatten() ) )\n",
    "print(\"{} regions survive size cut\".format( len(rr[rr>0]) ))\n"
   ]
  },
  {
   "cell_type": "code",
   "execution_count": 252,
   "metadata": {},
   "outputs": [
    {
     "data": {
      "text/plain": [
       "array([[  1.50185241e+02,   2.14922796e+00,   3.84623364e+03]])"
      ]
     },
     "execution_count": 252,
     "metadata": {},
     "output_type": "execute_result"
    }
   ],
   "source": [
    "w.wcs_pix2world([[100,100,178]],1)"
   ]
  },
  {
   "cell_type": "code",
   "execution_count": 260,
   "metadata": {},
   "outputs": [
    {
     "data": {
      "text/html": [
       "&lt;Table length=29&gt;\n",
       "<table id=\"table4505130880\" class=\"table-striped table-bordered table-condensed\">\n",
       "<thead><tr><th>id</th><th>N</th><th>flux</th><th>ra_com</th><th>dec_com</th><th>ddec</th><th>dra</th><th>x_com</th><th>y_com</th><th>z_com</th><th>dx</th><th>dy</th><th>dz</th><th>wl_com</th><th>dwl</th><th>xmin</th><th>xmax</th><th>ymin</th><th>ymax</th><th>zmin</th><th>zmax</th></tr></thead>\n",
       "<thead><tr><th></th><th>px</th><th>arb</th><th>Deg[J2000]</th><th>Deg[J2000]</th><th>arcsec</th><th>arcsec</th><th>px</th><th>px</th><th>px</th><th>px</th><th>px</th><th>px</th><th>A</th><th>A</th><th>px</th><th>px</th><th>px</th><th>px</th><th>px</th><th>px</th></tr></thead>\n",
       "<thead><tr><th>int64</th><th>int64</th><th>float64</th><th>float64</th><th>float64</th><th>float64</th><th>float64</th><th>int64</th><th>int64</th><th>int64</th><th>int64</th><th>int64</th><th>int64</th><th>float64</th><th>float64</th><th>int64</th><th>int64</th><th>int64</th><th>int64</th><th>int64</th><th>int64</th></tr></thead>\n",
       "<tr><td>1</td><td>265</td><td>1.1943e+02</td><td>150.185545</td><td>2.151851</td><td>2.0</td><td>2.0</td><td>97.00</td><td>118.00</td><td>37.00</td><td>4</td><td>4</td><td>26</td><td>3566.70</td><td>51.63</td><td>96</td><td>100</td><td>117</td><td>121</td><td>26</td><td>52</td></tr>\n",
       "<tr><td>2</td><td>60140</td><td>5.5759e+04</td><td>150.185589</td><td>2.151713</td><td>7.0</td><td>9.5</td><td>97.00</td><td>117.00</td><td>547.00</td><td>14</td><td>19</td><td>831</td><td>4580.54</td><td>1650.23</td><td>89</td><td>103</td><td>105</td><td>124</td><td>66</td><td>897</td></tr>\n",
       "<tr><td>3</td><td>567</td><td>3.0554e+02</td><td>150.186446</td><td>2.142081</td><td>6.0</td><td>5.0</td><td>91.00</td><td>48.00</td><td>175.00</td><td>12</td><td>10</td><td>8</td><td>3842.16</td><td>15.89</td><td>85</td><td>97</td><td>43</td><td>53</td><td>172</td><td>180</td></tr>\n",
       "<tr><td>4</td><td>513</td><td>2.3867e+02</td><td>150.196041</td><td>2.143887</td><td>3.5</td><td>3.0</td><td>22.00</td><td>61.00</td><td>197.00</td><td>7</td><td>6</td><td>33</td><td>3885.33</td><td>65.53</td><td>19</td><td>26</td><td>58</td><td>64</td><td>179</td><td>212</td></tr>\n",
       "<tr><td>5</td><td>200</td><td>9.4023e+01</td><td>150.190697</td><td>2.154851</td><td>3.5</td><td>2.5</td><td>60.00</td><td>140.00</td><td>243.00</td><td>7</td><td>5</td><td>9</td><td>3975.33</td><td>17.87</td><td>57</td><td>64</td><td>138</td><td>143</td><td>239</td><td>248</td></tr>\n",
       "<tr><td>6</td><td>42914</td><td>2.9885e+04</td><td>150.190700</td><td>2.154846</td><td>9.0</td><td>7.5</td><td>60.00</td><td>140.00</td><td>643.00</td><td>18</td><td>15</td><td>630</td><td>4770.78</td><td>1251.08</td><td>52</td><td>70</td><td>133</td><td>148</td><td>267</td><td>897</td></tr>\n",
       "<tr><td>7</td><td>570</td><td>2.8478e+02</td><td>150.196007</td><td>2.144031</td><td>5.0</td><td>6.0</td><td>22.00</td><td>62.00</td><td>287.00</td><td>10</td><td>12</td><td>15</td><td>4062.93</td><td>29.79</td><td>16</td><td>26</td><td>59</td><td>71</td><td>279</td><td>294</td></tr>\n",
       "<tr><td>8</td><td>636</td><td>3.1407e+02</td><td>150.196053</td><td>2.144134</td><td>3.5</td><td>4.5</td><td>22.00</td><td>63.00</td><td>311.00</td><td>7</td><td>9</td><td>23</td><td>4111.44</td><td>45.67</td><td>19</td><td>26</td><td>59</td><td>68</td><td>300</td><td>323</td></tr>\n",
       "<tr><td>9</td><td>231</td><td>1.1374e+02</td><td>150.196168</td><td>2.143958</td><td>3.5</td><td>3.0</td><td>21.00</td><td>62.00</td><td>328.00</td><td>7</td><td>6</td><td>10</td><td>4145.16</td><td>19.86</td><td>18</td><td>25</td><td>59</td><td>65</td><td>324</td><td>334</td></tr>\n",
       "<tr><td>...</td><td>...</td><td>...</td><td>...</td><td>...</td><td>...</td><td>...</td><td>...</td><td>...</td><td>...</td><td>...</td><td>...</td><td>...</td><td>...</td><td>...</td><td>...</td><td>...</td><td>...</td><td>...</td><td>...</td><td>...</td></tr>\n",
       "<tr><td>20</td><td>568</td><td>2.8003e+02</td><td>150.195937</td><td>2.143951</td><td>4.0</td><td>4.0</td><td>23.00</td><td>62.00</td><td>715.00</td><td>8</td><td>8</td><td>30</td><td>4914.05</td><td>59.58</td><td>20</td><td>28</td><td>58</td><td>66</td><td>697</td><td>727</td></tr>\n",
       "<tr><td>21</td><td>67</td><td>3.1930e+01</td><td>150.185651</td><td>2.146490</td><td>2.5</td><td>2.5</td><td>97.00</td><td>80.00</td><td>728.00</td><td>5</td><td>5</td><td>3</td><td>4939.29</td><td>5.96</td><td>95</td><td>100</td><td>78</td><td>83</td><td>727</td><td>730</td></tr>\n",
       "<tr><td>22</td><td>1202</td><td>5.9924e+02</td><td>150.195985</td><td>2.143933</td><td>5.0</td><td>4.5</td><td>22.00</td><td>61.00</td><td>773.00</td><td>10</td><td>9</td><td>48</td><td>5029.31</td><td>95.32</td><td>19</td><td>29</td><td>58</td><td>67</td><td>747</td><td>795</td></tr>\n",
       "<tr><td>23</td><td>182</td><td>9.3515e+01</td><td>150.195998</td><td>2.143964</td><td>2.5</td><td>3.5</td><td>22.00</td><td>62.00</td><td>801.00</td><td>5</td><td>7</td><td>6</td><td>5084.96</td><td>11.92</td><td>20</td><td>25</td><td>59</td><td>66</td><td>799</td><td>805</td></tr>\n",
       "<tr><td>24</td><td>175</td><td>8.2165e+01</td><td>150.195867</td><td>2.144021</td><td>2.5</td><td>4.0</td><td>23.00</td><td>62.00</td><td>819.00</td><td>5</td><td>8</td><td>10</td><td>5119.90</td><td>19.86</td><td>21</td><td>26</td><td>58</td><td>66</td><td>815</td><td>825</td></tr>\n",
       "<tr><td>25</td><td>307</td><td>1.5126e+02</td><td>150.195968</td><td>2.143828</td><td>4.5</td><td>4.0</td><td>22.00</td><td>61.00</td><td>833.00</td><td>9</td><td>8</td><td>12</td><td>5147.56</td><td>23.83</td><td>19</td><td>28</td><td>56</td><td>64</td><td>827</td><td>839</td></tr>\n",
       "<tr><td>26</td><td>6711</td><td>6.1665e+03</td><td>150.185627</td><td>2.151653</td><td>5.5</td><td>6.0</td><td>97.00</td><td>117.00</td><td>964.00</td><td>11</td><td>12</td><td>86</td><td>5407.16</td><td>170.78</td><td>92</td><td>103</td><td>112</td><td>124</td><td>923</td><td>1009</td></tr>\n",
       "<tr><td>27</td><td>8321</td><td>5.9069e+03</td><td>150.190645</td><td>2.154846</td><td>9.5</td><td>7.5</td><td>61.00</td><td>140.00</td><td>968.00</td><td>19</td><td>15</td><td>86</td><td>5415.34</td><td>170.78</td><td>50</td><td>69</td><td>133</td><td>148</td><td>923</td><td>1009</td></tr>\n",
       "<tr><td>28</td><td>362</td><td>1.8198e+02</td><td>150.196345</td><td>2.143979</td><td>4.5</td><td>4.5</td><td>20.00</td><td>62.00</td><td>956.00</td><td>9</td><td>9</td><td>14</td><td>5392.28</td><td>27.80</td><td>16</td><td>25</td><td>58</td><td>67</td><td>951</td><td>965</td></tr>\n",
       "<tr><td>29</td><td>344</td><td>1.6381e+02</td><td>150.196201</td><td>2.143887</td><td>4.0</td><td>3.5</td><td>21.00</td><td>61.00</td><td>979.00</td><td>8</td><td>7</td><td>15</td><td>5438.47</td><td>29.79</td><td>17</td><td>25</td><td>58</td><td>65</td><td>972</td><td>987</td></tr>\n",
       "</table>"
      ],
      "text/plain": [
       "<Table length=29>\n",
       "  id    N      flux       ra_com      dec_com    ...  ymin  ymax  zmin  zmax\n",
       "        px     arb      Deg[J2000]   Deg[J2000]  ...   px    px    px    px \n",
       "int64 int64  float64     float64      float64    ... int64 int64 int64 int64\n",
       "----- ----- ---------- ------------ ------------ ... ----- ----- ----- -----\n",
       "    1   265 1.1943e+02   150.185545     2.151851 ...   117   121    26    52\n",
       "    2 60140 5.5759e+04   150.185589     2.151713 ...   105   124    66   897\n",
       "    3   567 3.0554e+02   150.186446     2.142081 ...    43    53   172   180\n",
       "    4   513 2.3867e+02   150.196041     2.143887 ...    58    64   179   212\n",
       "    5   200 9.4023e+01   150.190697     2.154851 ...   138   143   239   248\n",
       "    6 42914 2.9885e+04   150.190700     2.154846 ...   133   148   267   897\n",
       "    7   570 2.8478e+02   150.196007     2.144031 ...    59    71   279   294\n",
       "    8   636 3.1407e+02   150.196053     2.144134 ...    59    68   300   323\n",
       "    9   231 1.1374e+02   150.196168     2.143958 ...    59    65   324   334\n",
       "  ...   ...        ...          ...          ... ...   ...   ...   ...   ...\n",
       "   20   568 2.8003e+02   150.195937     2.143951 ...    58    66   697   727\n",
       "   21    67 3.1930e+01   150.185651     2.146490 ...    78    83   727   730\n",
       "   22  1202 5.9924e+02   150.195985     2.143933 ...    58    67   747   795\n",
       "   23   182 9.3515e+01   150.195998     2.143964 ...    59    66   799   805\n",
       "   24   175 8.2165e+01   150.195867     2.144021 ...    58    66   815   825\n",
       "   25   307 1.5126e+02   150.195968     2.143828 ...    56    64   827   839\n",
       "   26  6711 6.1665e+03   150.185627     2.151653 ...   112   124   923  1009\n",
       "   27  8321 5.9069e+03   150.190645     2.154846 ...   133   148   923  1009\n",
       "   28   362 1.8198e+02   150.196345     2.143979 ...    58    67   951   965\n",
       "   29   344 1.6381e+02   150.196201     2.143887 ...    58    65   972   987"
      ]
     },
     "execution_count": 260,
     "metadata": {},
     "output_type": "execute_result"
    }
   ],
   "source": [
    "# build catalog\n",
    "\n",
    "from astropy.table import Table\n",
    "\n",
    "names   = [ \"id\", \"N\", \"flux\", \"ra_com\", \"dec_com\", \"ddec\", \"dra\", \"x_com\", \"y_com\", \"z_com\", \"dx\", \"dy\", \"dz\", \"wl_com\", \"dwl\", \"xmin\",\"xmax\", \"ymin\", \"ymax\", \"zmin\", \"zmax\"]\n",
    "t = Table(names=names)\n",
    "\n",
    "dtypes   =  {\"id\" : int, \"N\" : int, \"flux\" : float, \n",
    "             \"ra_com\" : float, \"dec_com\" : float, \n",
    "             \"dra\" : float, \"ddec\" : float,\n",
    "             \"x_com\": int, \"y_com\": int, \"z_com\": int, \n",
    "             \"dx\": int, \"dy\": int, \"dz\": int, \"wl_com\" : float, \n",
    "             \"dwl\": float, \n",
    "             \"xmin\": int,\"xmax\": int, \"ymin\": int, \"ymax\": int, \"zmin\": int, \"zmax\": int}\n",
    "formats  =  {\"id\" : \"5d\", \"N\" : \"5d\", \"flux\" : \".4e\", \"ra_com\" : \"12.6f\", \"dec_com\" : \"12.6f\", \"dra\" : \"3.1f\", \"ddec\" : \"3.1f\", \"x_com\": \"8.2f\", \"y_com\": \"8.2f\", \"z_com\": \"8.2f\", \"dx\": \"4d\", \"dy\": \"4d\", \"dz\": \"4d\", \"wl_com\" : \"8.2f\", \"dwl\": \"8.2f\", \"xmin\": \"4d\",\"xmax\": \"4d\", \"ymin\": \"4d\", \"ymax\": \"4d\", \"zmin\": \"4d\", \"zmax\": \"4d\"}\n",
    "units    =  {\"id\" : \"\", \"N\" : \"px\", \"flux\" : \"arb\", \"ra_com\" : \"Deg[J2000]\", \"dec_com\" : \"Deg[J2000]\", \"dra\" : \"arcsec\", \"ddec\" : \"arcsec\", \"x_com\": \"px\", \"y_com\": \"px\", \"z_com\": \"px\", \"dx\": \"px\", \"dy\": \"px\", \"dz\": \"px\", \"wl_com\" : \"A\", \"dwl\": \"A\", \"xmin\": \"px\",\"xmax\": \"px\", \"ymin\": \"px\", \"ymax\": \"px\", \"zmin\": \"px\", \"zmax\": \"px\"}\n",
    "\n",
    "\n",
    "from astropy import wcs\n",
    "w = wcs.WCS(s.hdu)\n",
    "platescale = s.hdu.header[\"CDELT2\"]\n",
    "\n",
    "for n in names:\n",
    "    t[n].dtype  = dtypes[n]\n",
    "    t[n].format = formats[n]\n",
    "    t[n].unit =  units[n]\n",
    "\n",
    "# Generate catalog\n",
    "for r in rr[rr>0]:\n",
    "    ii = outmap == r\n",
    "    N = np.sum(ii)\n",
    "    M = np.sum(c[ii])\n",
    "    x_com = np.sum(c[ii]*XX[ii])/M\n",
    "    y_com = np.sum(c[ii]*YY[ii])/M\n",
    "    z_com = np.sum(c[ii]*ZZ[ii])/M\n",
    "    \n",
    "    wl_com = float(ww_interp(z_com))\n",
    "    zmax,zmin = int(ZZ[ii].max()) , int(ZZ[ii].min())\n",
    "    ymax,ymin = int(YY[ii].max()) , int(YY[ii].min())\n",
    "    xmax,xmin = int(XX[ii].max()) , int(XX[ii].min())\n",
    "    dz = zmax - zmin\n",
    "    dx = xmax - xmin\n",
    "    dy = ymax - ymin\n",
    "    \n",
    "    # use atropy wcs to convert x,y,z, dz to ra,dec,wl  ... and in bit of a hack ... dwl\n",
    "    voxel = w.wcs_pix2world([[x_com,y_com,z_com],[x_com,y_com,ZZ[ii].max()],[x_com,y_com,ZZ[ii].min()]],1)\n",
    "    dwl = voxel[1][2] - voxel[2][2]\n",
    "    ra_com, dec_com,wl_com = voxel[0]\n",
    "    \n",
    "    dra = platescale*dx * 3600.\n",
    "    ddec = platescale*dy * 3600.\n",
    "    t.add_row([ r, N, M, ra_com, dec_com, dra, ddec, x_com, y_com, z_com, dx, dy, dz, wl_com, dwl, xmin,xmax, ymin, ymax, zmin, zmax] )\n",
    "    \n",
    "t"
   ]
  },
  {
   "cell_type": "code",
   "execution_count": 261,
   "metadata": {
    "collapsed": true
   },
   "outputs": [],
   "source": [
    "# save map\n",
    "f = np.zeros_like(c)\n",
    "f[outmap > 0] = c[outmap > 0]\n",
    "\n",
    "# shell\n",
    "#f[m == -1] = c[m == -1]\n",
    "\n",
    "h = fits.PrimaryHDU(data=outmap, header=s.hdu.header)\n",
    "h.header[\"CD1_1\"] = -0.00013888888888888   \n",
    "h.header[\"CD1_2\"] = 0. \n",
    "h.header[\"CD2_2\"] = 0.000138888888888888  \n",
    "h.header[\"CD2_1\"] = 0.\n",
    "h.header[\"CD3_3\"] = 1.985839800000122  \n",
    "h.writeto(\"outmap.fits.gz\", overwrite=True)"
   ]
  },
  {
   "cell_type": "code",
   "execution_count": 262,
   "metadata": {
    "collapsed": true
   },
   "outputs": [],
   "source": [
    "# save map filtered data\n",
    "f = np.zeros_like(c)\n",
    "f[outmap > 0] = c[outmap > 0]\n",
    "\n",
    "# shell\n",
    "#f[m == -1] = c[m == -1]\n",
    "\n",
    "h = fits.PrimaryHDU(data=f, header=s.hdu.header)\n",
    "h.header[\"CD1_1\"] = -0.00013888888888888   \n",
    "h.header[\"CD1_2\"] = 0. \n",
    "h.header[\"CD2_2\"] = 0.000138888888888888  \n",
    "h.header[\"CD2_1\"] = 0.\n",
    "h.header[\"CD3_3\"] = 1.985839800000122  \n",
    "h.writeto(\"mapfiltered.fits.gz\", overwrite=True)"
   ]
  },
  {
   "cell_type": "code",
   "execution_count": 263,
   "metadata": {},
   "outputs": [],
   "source": [
    "# save shells \n",
    "# shell\n",
    "f = np.zeros_like(c)\n",
    "f[outmap == -1] = c[outmap == -1]\n",
    "\n",
    "h = fits.PrimaryHDU(data=f, header=s.hdu.header)\n",
    "h.header[\"CD1_1\"] = -0.00013888888888888   \n",
    "h.header[\"CD1_2\"] = 0. \n",
    "h.header[\"CD2_2\"] = 0.000138888888888888  \n",
    "h.header[\"CD2_1\"] = 0.\n",
    "h.header[\"CD3_3\"] = 1.985839800000122  \n",
    "h.writeto(\"shells.fits.gz\", overwrite=True)"
   ]
  },
  {
   "cell_type": "code",
   "execution_count": null,
   "metadata": {},
   "outputs": [],
   "source": [
    "sum(visited.flatten())"
   ]
  },
  {
   "cell_type": "code",
   "execution_count": null,
   "metadata": {},
   "outputs": [],
   "source": [
    "import matplotlib.pyplot as plt\n",
    "from mpl_toolkits.mplot3d import Axes3D\n",
    "% matplotlib notebook\n",
    "fig = plt.figure(figsize=[15,10])\n",
    "ax = fig.add_subplot(111, projection='3d')\n",
    "ax.scatter3D(pl[:,0], pl[:,1], pl[:,2],c=pl[:,3], alpha=.1)\n",
    "plt.show()"
   ]
  },
  {
   "cell_type": "code",
   "execution_count": null,
   "metadata": {
    "collapsed": true
   },
   "outputs": [],
   "source": []
  }
 ],
 "metadata": {
  "kernelspec": {
   "display_name": "Python 3",
   "language": "python",
   "name": "python3"
  },
  "language_info": {
   "codemirror_mode": {
    "name": "ipython",
    "version": 3
   },
   "file_extension": ".py",
   "mimetype": "text/x-python",
   "name": "python",
   "nbconvert_exporter": "python",
   "pygments_lexer": "ipython3",
   "version": "3.6.0"
  }
 },
 "nbformat": 4,
 "nbformat_minor": 2
}
