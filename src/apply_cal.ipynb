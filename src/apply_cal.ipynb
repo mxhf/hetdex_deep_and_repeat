{
 "cells": [
  {
   "cell_type": "code",
   "execution_count": 1,
   "metadata": {
    "collapsed": true
   },
   "outputs": [],
   "source": [
    "import spectrum\n",
    "from scipy.interpolate import interp1d\n",
    "from astropy.io import ascii, fits\n",
    "\n",
    "ifu = \"073\"\n",
    "ftcal = \"mean_cal.txt\"\n",
    "#ftcal = \"1237651753997238489_cal.txt\"\n",
    "fcubein = \"data/outcube_median_{}.fits.gz\".format(ifu)\n",
    "fcubeout = \"data/coutcube_median_{}.fits.gz\".format(ifu)\n",
    "tcal = ascii.read(ftcal, format=\"fixed_width\")\n",
    "\n",
    "cal_interp = interp1d(tcal[\"wl[A]\"], tcal[\"cal[erg/s/cm^2/A/cnt]\"], kind='cubic', bounds_error=False,fill_value=\"extrapolate\")\n"
   ]
  },
  {
   "cell_type": "code",
   "execution_count": 2,
   "metadata": {
    "collapsed": true
   },
   "outputs": [],
   "source": [
    "s = spectrum.readSpectrum(fcubein)\n",
    "\n",
    "ww = s.grid()\n",
    "for i,w in enumerate(ww):\n",
    "    s.data[i] = s.data[i] * cal_interp(w) #* 1e17\n",
    "\n",
    "h = fits.PrimaryHDU(data=s.data, header=s.hdu.header)\n",
    "#h.header['BUNITS'] = 'erg'\n",
    "h.writeto(fcubeout, overwrite=True)"
   ]
  },
  {
   "cell_type": "code",
   "execution_count": null,
   "metadata": {
    "collapsed": true
   },
   "outputs": [],
   "source": []
  }
 ],
 "metadata": {
  "kernelspec": {
   "display_name": "Python 3",
   "language": "python",
   "name": "python3"
  },
  "language_info": {
   "codemirror_mode": {
    "name": "ipython",
    "version": 3
   },
   "file_extension": ".py",
   "mimetype": "text/x-python",
   "name": "python",
   "nbconvert_exporter": "python",
   "pygments_lexer": "ipython3",
   "version": "3.5.4"
  }
 },
 "nbformat": 4,
 "nbformat_minor": 2
}
