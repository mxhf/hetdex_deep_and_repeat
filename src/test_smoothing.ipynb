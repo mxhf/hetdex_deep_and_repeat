{
 "cells": [
  {
   "cell_type": "code",
   "execution_count": 19,
   "metadata": {
    "collapsed": true
   },
   "outputs": [],
   "source": [
    "# here we test that filtering is fluxconserving\n"
   ]
  },
  {
   "cell_type": "code",
   "execution_count": 25,
   "metadata": {},
   "outputs": [
    {
     "name": "stdout",
     "output_type": "stream",
     "text": [
      "1.0\n"
     ]
    }
   ],
   "source": [
    "import spectrum\n",
    "import numpy as np\n",
    "from astropy.io import fits\n",
    "s = spectrum.readSpectrum(\"data/coutcube_median_022.fits.gz\")\n",
    "\n",
    "s.data[:,:,:] = 0.\n",
    "\n",
    "s.data[505,120,70] = 1.\n",
    "\n",
    "print( np.sum(s.data) )\n",
    "\n",
    "h = fits.PrimaryHDU(data=s.data, header=s.hdu.header)\n",
    "\n",
    "h.writeto(\"testcube.fits\", overwrite=True)"
   ]
  },
  {
   "cell_type": "code",
   "execution_count": 26,
   "metadata": {},
   "outputs": [
    {
     "name": "stdout",
     "output_type": "stream",
     "text": [
      "/Users/mxhf/.pyenv/versions/anaconda3-4.3.1/lib/python3.5/site-packages/scipy/signal/signaltools.py:375: FutureWarning: Conversion of the second argument of issubdtype from `complex` to `np.complexfloating` is deprecated. In future, it will be treated as `np.complex128 == np.dtype(complex).type`.\r\n",
      "  complex_result = (np.issubdtype(in1.dtype, complex) or\r\n",
      "/Users/mxhf/.pyenv/versions/anaconda3-4.3.1/lib/python3.5/site-packages/scipy/signal/signaltools.py:376: FutureWarning: Conversion of the second argument of issubdtype from `complex` to `np.complexfloating` is deprecated. In future, it will be treated as `np.complex128 == np.dtype(complex).type`.\r\n",
      "  np.issubdtype(in2.dtype, complex))\r\n",
      "/Users/mxhf/.pyenv/versions/anaconda3-4.3.1/lib/python3.5/site-packages/numpy/core/fromnumeric.py:2920: RuntimeWarning: Mean of empty slice.\r\n",
      "  out=out, **kwargs)\r\n",
      "/Users/mxhf/.pyenv/versions/anaconda3-4.3.1/lib/python3.5/site-packages/numpy/core/_methods.py:85: RuntimeWarning: invalid value encountered in double_scalars\r\n",
      "  ret = ret.dtype.type(ret / rcount)\r\n"
     ]
    }
   ],
   "source": [
    "!python filter_cube.py --infile testcube.fits --outfile sf2testcube.fits\n"
   ]
  },
  {
   "cell_type": "code",
   "execution_count": 27,
   "metadata": {},
   "outputs": [
    {
     "name": "stdout",
     "output_type": "stream",
     "text": [
      "1.0\n"
     ]
    }
   ],
   "source": [
    "ss = spectrum.readSpectrum(\"sf2testcube.fits\")\n",
    "print(np.sum(ss.data))"
   ]
  },
  {
   "cell_type": "code",
   "execution_count": null,
   "metadata": {
    "collapsed": true
   },
   "outputs": [],
   "source": []
  }
 ],
 "metadata": {
  "kernelspec": {
   "display_name": "Python 3",
   "language": "python",
   "name": "python3"
  },
  "language_info": {
   "codemirror_mode": {
    "name": "ipython",
    "version": 3
   },
   "file_extension": ".py",
   "mimetype": "text/x-python",
   "name": "python",
   "nbconvert_exporter": "python",
   "pygments_lexer": "ipython3",
   "version": "3.5.4"
  }
 },
 "nbformat": 4,
 "nbformat_minor": 2
}
